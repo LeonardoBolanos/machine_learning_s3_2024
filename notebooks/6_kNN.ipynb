{
 "cells": [
  {
   "cell_type": "markdown",
   "id": "8358e2fa",
   "metadata": {},
   "source": [
    "# Intro to KNN"
   ]
  },
  {
   "cell_type": "markdown",
   "id": "40d6acf6",
   "metadata": {},
   "source": [
    "## Collect Data"
   ]
  },
  {
   "cell_type": "code",
   "execution_count": null,
   "id": "b76f0d65",
   "metadata": {},
   "outputs": [],
   "source": [
    "from sklearn.datasets import load_breast_cancer\n",
    "\n",
    "data = load_breast_cancer()\n",
    "list(data.keys())"
   ]
  },
  {
   "cell_type": "code",
   "execution_count": null,
   "id": "b8b923d4",
   "metadata": {},
   "outputs": [],
   "source": [
    "print(data.DESCR)"
   ]
  },
  {
   "cell_type": "markdown",
   "id": "aff6fd70",
   "metadata": {},
   "source": [
    "## Separte Features and Targets in X, y"
   ]
  },
  {
   "cell_type": "code",
   "execution_count": 3,
   "id": "331ef4f6",
   "metadata": {},
   "outputs": [],
   "source": [
    "X = data[\"data\"]\n",
    "y = data[\"target\"]"
   ]
  },
  {
   "cell_type": "code",
   "execution_count": null,
   "id": "88228469",
   "metadata": {},
   "outputs": [],
   "source": [
    "X"
   ]
  },
  {
   "cell_type": "markdown",
   "id": "c1879af8",
   "metadata": {},
   "source": [
    "## Train/ Test Splits"
   ]
  },
  {
   "cell_type": "code",
   "execution_count": null,
   "id": "5b9c54fa",
   "metadata": {},
   "outputs": [],
   "source": [
    "from sklearn.model_selection import train_test_split\n",
    "\n",
    "X_train, X_test, y_train, y_test = train_test_split(X, y, test_size=0.2, random_state=42)\n",
    "X_train.shape"
   ]
  },
  {
   "cell_type": "code",
   "execution_count": null,
   "id": "504f3e48",
   "metadata": {},
   "outputs": [],
   "source": [
    "from sklearn.neighbors import KNeighborsClassifier\n",
    "\n",
    "k = 4\n",
    "knn = KNeighborsClassifier(n_neighbors = k)\n",
    "knn.fit(X_train, y_train)"
   ]
  },
  {
   "cell_type": "code",
   "execution_count": 7,
   "id": "612b71e8",
   "metadata": {},
   "outputs": [],
   "source": [
    "pred_y = knn.predict(X_test)"
   ]
  },
  {
   "cell_type": "code",
   "execution_count": null,
   "id": "e8dc6291",
   "metadata": {},
   "outputs": [],
   "source": [
    "from sklearn.metrics import accuracy_score\n",
    "\n",
    "print(f\"Acc at K={k} is {accuracy_score(y_test, pred_y)}\")"
   ]
  },
  {
   "cell_type": "code",
   "execution_count": null,
   "id": "85f8de52",
   "metadata": {},
   "outputs": [],
   "source": [
    "ks = [1, 2, 4, 8, 16, 32, 64, 455]\n",
    "\n",
    "for k in ks:\n",
    "    knn = KNeighborsClassifier(n_neighbors = k)\n",
    "    knn.fit(X_train, y_train)\n",
    "    pred_y = knn.predict(X_test)\n",
    "    print(f\"Acc at K={k} is {accuracy_score(y_test, pred_y)}\")"
   ]
  },
  {
   "cell_type": "markdown",
   "id": "a0253239",
   "metadata": {},
   "source": [
    "## Plot the error, plot the metric (accuracy)"
   ]
  },
  {
   "cell_type": "code",
   "execution_count": 10,
   "id": "f0175c43",
   "metadata": {},
   "outputs": [],
   "source": [
    "import numpy as np\n",
    "# import matplotlib.pyplot as plt\n",
    "\n",
    "error_rate = []\n",
    "\n",
    "for i in range(1, 40):\n",
    "    knn = KNeighborsClassifier(n_neighbors = i)\n",
    "    knn.fit(X_train, y_train)\n",
    "    pred_i = knn.predict(X_test)\n",
    "    \n",
    "    # Error history\n",
    "    error_rate.append(np.mean(pred_i != y_test))"
   ]
  },
  {
   "cell_type": "code",
   "execution_count": 11,
   "id": "b7edc2f8",
   "metadata": {},
   "outputs": [],
   "source": [
    "import matplotlib.pyplot as plt\n"
   ]
  },
  {
   "cell_type": "code",
   "execution_count": null,
   "id": "2dc3fdef",
   "metadata": {},
   "outputs": [],
   "source": [
    "plt.figure(figsize = (10, 6))\n",
    "plt.plot(range(1, 40), error_rate, color = \"blue\",\n",
    "         linestyle = \"dashed\",\n",
    "         marker='o', markerfacecolor=\"red\", markersize=10)\n",
    "\n",
    "plt.title(\"Error Rate vs K-Value\")\n",
    "plt.xlabel(\"K\")\n",
    "plt.ylabel(\"Error Rate\")\n",
    "plt.show()\n",
    "\n",
    "print(f\"Min Error: {min(error_rate)}, at K={error_rate.index(min(error_rate))}\")"
   ]
  },
  {
   "cell_type": "markdown",
   "id": "22deaee4",
   "metadata": {},
   "source": [
    "### Accuracy"
   ]
  },
  {
   "cell_type": "code",
   "execution_count": 13,
   "id": "9a208322",
   "metadata": {},
   "outputs": [],
   "source": [
    "acc = []\n",
    "\n",
    "for i in range(1, 20):\n",
    "    knn = KNeighborsClassifier(n_neighbors = i).fit(X_train, y_train)\n",
    "    pred_i = knn.predict(X_test)\n",
    "    acc.append(accuracy_score(y_test, pred_i))"
   ]
  },
  {
   "cell_type": "code",
   "execution_count": null,
   "id": "43c5c145",
   "metadata": {},
   "outputs": [],
   "source": [
    "plt.figure(figsize=(10, 6))\n",
    "plt.plot(range(1, 20), acc, color =\"blue\",\n",
    "         linestyle = \"dashed\",\n",
    "         marker='o', markerfacecolor=\"red\", markersize=10)\n",
    "\n",
    "plt.title(\"Accuracy vs K-Value\")\n",
    "plt.xlabel(\"K\")\n",
    "plt.ylabel(\"Accuracy\")\n",
    "plt.show()"
   ]
  },
  {
   "cell_type": "code",
   "execution_count": null,
   "id": "f379b08f",
   "metadata": {},
   "outputs": [],
   "source": [
    "print(f\"Max Acc: {max(acc)}, at K={acc.index(max(acc))}\")"
   ]
  }
 ],
 "metadata": {
  "kernelspec": {
   "display_name": "machine_learning",
   "language": "python",
   "name": "python3"
  },
  "language_info": {
   "codemirror_mode": {
    "name": "ipython",
    "version": 3
   },
   "file_extension": ".py",
   "mimetype": "text/x-python",
   "name": "python",
   "nbconvert_exporter": "python",
   "pygments_lexer": "ipython3",
   "version": "3.10.13"
  }
 },
 "nbformat": 4,
 "nbformat_minor": 5
}

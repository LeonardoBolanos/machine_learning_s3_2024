{
 "cells": [
  {
   "cell_type": "markdown",
   "metadata": {},
   "source": [
    "https://www.kaggle.com/datasets/limtis/wikiliq-dataset\n",
    "# About Dataset\n",
    "\n",
    "## Parsed data from WikiliQ website.\n",
    "## Data is presented as-is. It wasn't cleaned, nor modified in any way.\n",
    "\n",
    "# There are three CSV files, containing information about wine, beer and liquors (Including whiskey, beer, vodka, liquors and spirits)\n",
    "\n",
    "- Common columns between these 3 files:\n",
    "- Name (of the product),\n",
    "- Brand,\n",
    "- Country,\n",
    "- Categories (Type of beer/wine/liquor)\n",
    "- ABV (Alcohol by volume)\n",
    "- IBU (International Bitterness Units scale)\n",
    "- Suggested Serving Temperature (in Fahrenheit)\n",
    "- Rating (Scale 0 to 5)\n",
    "- Rate count (Amount of reviews, the rating is based on)\n",
    "- Price (Sometimes might be incorrect, be careful)\n",
    "- Volume (Volume, the price is set for)\n",
    "- Description [of a product] (Mostly descriptions, but sometimes may be filled with contacts of a brand, or company's history)\n",
    "\n",
    "There are additional columns in every file, but names speak for themselves."
   ]
  },
  {
   "cell_type": "code",
   "execution_count": 306,
   "metadata": {},
   "outputs": [],
   "source": [
    "import pandas as pd "
   ]
  },
  {
   "cell_type": "code",
   "execution_count": 307,
   "metadata": {},
   "outputs": [],
   "source": [
    "# Reading data and removing index col\n",
    "df = pd.read_csv('../data/raw/beer_data.csv',index_col=0)"
   ]
  },
  {
   "cell_type": "code",
   "execution_count": 308,
   "metadata": {},
   "outputs": [
    {
     "data": {
      "text/plain": [
       "Index(['Name', 'Country', 'Brand', 'Categories', 'Type', 'Tasting Notes',\n",
       "       'ABV', 'IBU', 'Calories Per Serving (12 OZ/0.35L)',\n",
       "       'Carbs Per Serving (12 OZ/0.35L)', 'Food Pairing',\n",
       "       'Suggested Serving Temperature', 'Rating', 'Rate Count', 'Price',\n",
       "       'Volume', 'Description'],\n",
       "      dtype='object')"
      ]
     },
     "execution_count": 308,
     "metadata": {},
     "output_type": "execute_result"
    }
   ],
   "source": [
    "df.columns"
   ]
  },
  {
   "cell_type": "code",
   "execution_count": 309,
   "metadata": {},
   "outputs": [
    {
     "data": {
      "text/html": [
       "<div>\n",
       "<style scoped>\n",
       "    .dataframe tbody tr th:only-of-type {\n",
       "        vertical-align: middle;\n",
       "    }\n",
       "\n",
       "    .dataframe tbody tr th {\n",
       "        vertical-align: top;\n",
       "    }\n",
       "\n",
       "    .dataframe thead th {\n",
       "        text-align: right;\n",
       "    }\n",
       "</style>\n",
       "<table border=\"1\" class=\"dataframe\">\n",
       "  <thead>\n",
       "    <tr style=\"text-align: right;\">\n",
       "      <th></th>\n",
       "      <th>Name</th>\n",
       "      <th>Country</th>\n",
       "      <th>Brand</th>\n",
       "      <th>Categories</th>\n",
       "      <th>Type</th>\n",
       "      <th>Tasting Notes</th>\n",
       "      <th>ABV</th>\n",
       "      <th>IBU</th>\n",
       "      <th>Calories Per Serving (12 OZ/0.35L)</th>\n",
       "      <th>Carbs Per Serving (12 OZ/0.35L)</th>\n",
       "      <th>Food Pairing</th>\n",
       "      <th>Suggested Serving Temperature</th>\n",
       "      <th>Rating</th>\n",
       "      <th>Rate Count</th>\n",
       "      <th>Price</th>\n",
       "      <th>Volume</th>\n",
       "      <th>Description</th>\n",
       "    </tr>\n",
       "  </thead>\n",
       "  <tbody>\n",
       "    <tr>\n",
       "      <th>0</th>\n",
       "      <td>Pipeworks Ninja vs. Unicorn</td>\n",
       "      <td>United States</td>\n",
       "      <td>Pipeworks Brewing Company</td>\n",
       "      <td>ALE, Imperial  Double IPA, IPA</td>\n",
       "      <td>Craft Beer</td>\n",
       "      <td>NaN</td>\n",
       "      <td>8%</td>\n",
       "      <td>NaN</td>\n",
       "      <td>NaN</td>\n",
       "      <td>NaN</td>\n",
       "      <td>NaN</td>\n",
       "      <td>50-55° F</td>\n",
       "      <td>5.0</td>\n",
       "      <td>17</td>\n",
       "      <td>$10.00</td>\n",
       "      <td>NaN</td>\n",
       "      <td>Ninja vs. Unicorn celebrates the epic battle b...</td>\n",
       "    </tr>\n",
       "    <tr>\n",
       "      <th>1</th>\n",
       "      <td>Pipeworks Lizard King</td>\n",
       "      <td>United States</td>\n",
       "      <td>Pipeworks Brewing Company</td>\n",
       "      <td>ALE, Pale Ale</td>\n",
       "      <td>Craft Beer</td>\n",
       "      <td>NaN</td>\n",
       "      <td>6%</td>\n",
       "      <td>NaN</td>\n",
       "      <td>NaN</td>\n",
       "      <td>NaN</td>\n",
       "      <td>NaN</td>\n",
       "      <td>45-50° F</td>\n",
       "      <td>5.0</td>\n",
       "      <td>8</td>\n",
       "      <td>$11.54</td>\n",
       "      <td>NaN</td>\n",
       "      <td>This American Pale Ale is fresh as they come a...</td>\n",
       "    </tr>\n",
       "    <tr>\n",
       "      <th>2</th>\n",
       "      <td>Pipeworks Blood Of The Unicorn</td>\n",
       "      <td>United States</td>\n",
       "      <td>Pipeworks Brewing Company</td>\n",
       "      <td>ALE, Amber  Red Ale</td>\n",
       "      <td>Craft Beer</td>\n",
       "      <td>NaN</td>\n",
       "      <td>6.5%</td>\n",
       "      <td>NaN</td>\n",
       "      <td>NaN</td>\n",
       "      <td>NaN</td>\n",
       "      <td>NaN</td>\n",
       "      <td>45-50° F</td>\n",
       "      <td>5.0</td>\n",
       "      <td>1</td>\n",
       "      <td>$11.19</td>\n",
       "      <td>NaN</td>\n",
       "      <td>In this epic battle, the Blood of the Unicorn ...</td>\n",
       "    </tr>\n",
       "    <tr>\n",
       "      <th>3</th>\n",
       "      <td>Pipeworks Brief Relief</td>\n",
       "      <td>United States</td>\n",
       "      <td>Pipeworks Brewing Company</td>\n",
       "      <td>ALE, Amber  Red Ale</td>\n",
       "      <td>Craft Beer</td>\n",
       "      <td>NaN</td>\n",
       "      <td>9%</td>\n",
       "      <td>NaN</td>\n",
       "      <td>NaN</td>\n",
       "      <td>NaN</td>\n",
       "      <td>NaN</td>\n",
       "      <td>45-50° F</td>\n",
       "      <td>5.0</td>\n",
       "      <td>1</td>\n",
       "      <td>$10.99</td>\n",
       "      <td>NaN</td>\n",
       "      <td>What’s better than not wearing pants? Not wear...</td>\n",
       "    </tr>\n",
       "    <tr>\n",
       "      <th>4</th>\n",
       "      <td>Pipeworks Sangremancer Red Ale</td>\n",
       "      <td>United States</td>\n",
       "      <td>Pipeworks Brewing Company</td>\n",
       "      <td>ALE, Amber  Red Ale</td>\n",
       "      <td>Craft Beer</td>\n",
       "      <td>NaN</td>\n",
       "      <td>8.5%</td>\n",
       "      <td>NaN</td>\n",
       "      <td>NaN</td>\n",
       "      <td>NaN</td>\n",
       "      <td>NaN</td>\n",
       "      <td>45-50° F</td>\n",
       "      <td>5.0</td>\n",
       "      <td>1</td>\n",
       "      <td>$8.99</td>\n",
       "      <td>NaN</td>\n",
       "      <td>imperial red ale brewed with blood orange</td>\n",
       "    </tr>\n",
       "    <tr>\n",
       "      <th>5</th>\n",
       "      <td>Pipeworks Sam Vs. Unicorn</td>\n",
       "      <td>United States</td>\n",
       "      <td>Pipeworks Brewing Company</td>\n",
       "      <td>ALE, Amber  Red Ale</td>\n",
       "      <td>Craft Beer</td>\n",
       "      <td>NaN</td>\n",
       "      <td>9%</td>\n",
       "      <td>NaN</td>\n",
       "      <td>NaN</td>\n",
       "      <td>NaN</td>\n",
       "      <td>NaN</td>\n",
       "      <td>45-50° F</td>\n",
       "      <td>5.0</td>\n",
       "      <td>1</td>\n",
       "      <td>$10.99</td>\n",
       "      <td>NaN</td>\n",
       "      <td>Aroma: The nose is resiny hops over sweet cara...</td>\n",
       "    </tr>\n",
       "    <tr>\n",
       "      <th>6</th>\n",
       "      <td>Pipeworks Pineapple Bling Belgian Golden Ale</td>\n",
       "      <td>United States</td>\n",
       "      <td>Pipeworks Brewing Company</td>\n",
       "      <td>ALE, Golden  Blonde Ale</td>\n",
       "      <td>Craft Beer</td>\n",
       "      <td>NaN</td>\n",
       "      <td>NaN</td>\n",
       "      <td>NaN</td>\n",
       "      <td>NaN</td>\n",
       "      <td>NaN</td>\n",
       "      <td>NaN</td>\n",
       "      <td>45-50° F</td>\n",
       "      <td>5.0</td>\n",
       "      <td>1</td>\n",
       "      <td>$9.99</td>\n",
       "      <td>NaN</td>\n",
       "      <td>NaN</td>\n",
       "    </tr>\n",
       "    <tr>\n",
       "      <th>7</th>\n",
       "      <td>Pipeworks Soma</td>\n",
       "      <td>United States</td>\n",
       "      <td>Pipeworks Brewing Company</td>\n",
       "      <td>ALE, Golden  Blonde Ale</td>\n",
       "      <td>Craft Beer</td>\n",
       "      <td>NaN</td>\n",
       "      <td>9%</td>\n",
       "      <td>NaN</td>\n",
       "      <td>NaN</td>\n",
       "      <td>NaN</td>\n",
       "      <td>NaN</td>\n",
       "      <td>45-50° F</td>\n",
       "      <td>5.0</td>\n",
       "      <td>1</td>\n",
       "      <td>$10.99</td>\n",
       "      <td>NaN</td>\n",
       "      <td>This golden ale, brewed in collaboration with ...</td>\n",
       "    </tr>\n",
       "    <tr>\n",
       "      <th>8</th>\n",
       "      <td>Pipeworks Pineapple Bling Golden Ale ⅙ Barrel</td>\n",
       "      <td>United States</td>\n",
       "      <td>Pipeworks Brewing Company</td>\n",
       "      <td>ALE, Golden  Blonde Ale</td>\n",
       "      <td>Craft Beer</td>\n",
       "      <td>NaN</td>\n",
       "      <td>NaN</td>\n",
       "      <td>NaN</td>\n",
       "      <td>NaN</td>\n",
       "      <td>NaN</td>\n",
       "      <td>NaN</td>\n",
       "      <td>45-50° F</td>\n",
       "      <td>5.0</td>\n",
       "      <td>1</td>\n",
       "      <td>$217.00</td>\n",
       "      <td>NaN</td>\n",
       "      <td>Kegs are intended for Kegerator use only. TAP ...</td>\n",
       "    </tr>\n",
       "    <tr>\n",
       "      <th>9</th>\n",
       "      <td>Pipeworks XO Man O War Galactic Golden Ale</td>\n",
       "      <td>United States</td>\n",
       "      <td>Pipeworks Brewing Company</td>\n",
       "      <td>ALE, Golden  Blonde Ale</td>\n",
       "      <td>Craft Beer</td>\n",
       "      <td>NaN</td>\n",
       "      <td>NaN</td>\n",
       "      <td>NaN</td>\n",
       "      <td>NaN</td>\n",
       "      <td>NaN</td>\n",
       "      <td>NaN</td>\n",
       "      <td>45-50° F</td>\n",
       "      <td>5.0</td>\n",
       "      <td>1</td>\n",
       "      <td>$8.99</td>\n",
       "      <td>NaN</td>\n",
       "      <td>NaN</td>\n",
       "    </tr>\n",
       "  </tbody>\n",
       "</table>\n",
       "</div>"
      ],
      "text/plain": [
       "                                            Name        Country  \\\n",
       "0                    Pipeworks Ninja vs. Unicorn  United States   \n",
       "1                          Pipeworks Lizard King  United States   \n",
       "2                 Pipeworks Blood Of The Unicorn  United States   \n",
       "3                         Pipeworks Brief Relief  United States   \n",
       "4                 Pipeworks Sangremancer Red Ale  United States   \n",
       "5                      Pipeworks Sam Vs. Unicorn  United States   \n",
       "6   Pipeworks Pineapple Bling Belgian Golden Ale  United States   \n",
       "7                                 Pipeworks Soma  United States   \n",
       "8  Pipeworks Pineapple Bling Golden Ale ⅙ Barrel  United States   \n",
       "9     Pipeworks XO Man O War Galactic Golden Ale  United States   \n",
       "\n",
       "                       Brand                      Categories        Type  \\\n",
       "0  Pipeworks Brewing Company  ALE, Imperial  Double IPA, IPA  Craft Beer   \n",
       "1  Pipeworks Brewing Company                   ALE, Pale Ale  Craft Beer   \n",
       "2  Pipeworks Brewing Company             ALE, Amber  Red Ale  Craft Beer   \n",
       "3  Pipeworks Brewing Company             ALE, Amber  Red Ale  Craft Beer   \n",
       "4  Pipeworks Brewing Company             ALE, Amber  Red Ale  Craft Beer   \n",
       "5  Pipeworks Brewing Company             ALE, Amber  Red Ale  Craft Beer   \n",
       "6  Pipeworks Brewing Company         ALE, Golden  Blonde Ale  Craft Beer   \n",
       "7  Pipeworks Brewing Company         ALE, Golden  Blonde Ale  Craft Beer   \n",
       "8  Pipeworks Brewing Company         ALE, Golden  Blonde Ale  Craft Beer   \n",
       "9  Pipeworks Brewing Company         ALE, Golden  Blonde Ale  Craft Beer   \n",
       "\n",
       "  Tasting Notes   ABV  IBU  Calories Per Serving (12 OZ/0.35L)  \\\n",
       "0           NaN    8%  NaN                                 NaN   \n",
       "1           NaN    6%  NaN                                 NaN   \n",
       "2           NaN  6.5%  NaN                                 NaN   \n",
       "3           NaN    9%  NaN                                 NaN   \n",
       "4           NaN  8.5%  NaN                                 NaN   \n",
       "5           NaN    9%  NaN                                 NaN   \n",
       "6           NaN   NaN  NaN                                 NaN   \n",
       "7           NaN    9%  NaN                                 NaN   \n",
       "8           NaN   NaN  NaN                                 NaN   \n",
       "9           NaN   NaN  NaN                                 NaN   \n",
       "\n",
       "   Carbs Per Serving (12 OZ/0.35L) Food Pairing Suggested Serving Temperature  \\\n",
       "0                              NaN          NaN                      50-55° F   \n",
       "1                              NaN          NaN                      45-50° F   \n",
       "2                              NaN          NaN                      45-50° F   \n",
       "3                              NaN          NaN                      45-50° F   \n",
       "4                              NaN          NaN                      45-50° F   \n",
       "5                              NaN          NaN                      45-50° F   \n",
       "6                              NaN          NaN                      45-50° F   \n",
       "7                              NaN          NaN                      45-50° F   \n",
       "8                              NaN          NaN                      45-50° F   \n",
       "9                              NaN          NaN                      45-50° F   \n",
       "\n",
       "   Rating  Rate Count    Price Volume  \\\n",
       "0     5.0          17   $10.00    NaN   \n",
       "1     5.0           8   $11.54    NaN   \n",
       "2     5.0           1   $11.19    NaN   \n",
       "3     5.0           1   $10.99    NaN   \n",
       "4     5.0           1    $8.99    NaN   \n",
       "5     5.0           1   $10.99    NaN   \n",
       "6     5.0           1    $9.99    NaN   \n",
       "7     5.0           1   $10.99    NaN   \n",
       "8     5.0           1  $217.00    NaN   \n",
       "9     5.0           1    $8.99    NaN   \n",
       "\n",
       "                                         Description  \n",
       "0  Ninja vs. Unicorn celebrates the epic battle b...  \n",
       "1  This American Pale Ale is fresh as they come a...  \n",
       "2  In this epic battle, the Blood of the Unicorn ...  \n",
       "3  What’s better than not wearing pants? Not wear...  \n",
       "4          imperial red ale brewed with blood orange  \n",
       "5  Aroma: The nose is resiny hops over sweet cara...  \n",
       "6                                                NaN  \n",
       "7  This golden ale, brewed in collaboration with ...  \n",
       "8  Kegs are intended for Kegerator use only. TAP ...  \n",
       "9                                                NaN  "
      ]
     },
     "execution_count": 309,
     "metadata": {},
     "output_type": "execute_result"
    }
   ],
   "source": [
    "df.head(10)"
   ]
  },
  {
   "cell_type": "code",
   "execution_count": 310,
   "metadata": {},
   "outputs": [
    {
     "name": "stdout",
     "output_type": "stream",
     "text": [
      "<class 'pandas.core.frame.DataFrame'>\n",
      "Index: 13505 entries, 0 to 13504\n",
      "Data columns (total 17 columns):\n",
      " #   Column                              Non-Null Count  Dtype  \n",
      "---  ------                              --------------  -----  \n",
      " 0   Name                                13505 non-null  object \n",
      " 1   Country                             13488 non-null  object \n",
      " 2   Brand                               13505 non-null  object \n",
      " 3   Categories                          13459 non-null  object \n",
      " 4   Type                                8269 non-null   object \n",
      " 5   Tasting Notes                       1750 non-null   object \n",
      " 6   ABV                                 12511 non-null  object \n",
      " 7   IBU                                 1212 non-null   float64\n",
      " 8   Calories Per Serving (12 OZ/0.35L)  499 non-null    float64\n",
      " 9   Carbs Per Serving (12 OZ/0.35L)     336 non-null    float64\n",
      " 10  Food Pairing                        1131 non-null   object \n",
      " 11  Suggested Serving Temperature       10311 non-null  object \n",
      " 12  Rating                              13505 non-null  float64\n",
      " 13  Rate Count                          13505 non-null  int64  \n",
      " 14  Price                               13497 non-null  object \n",
      " 15  Volume                              6 non-null      object \n",
      " 16  Description                         11298 non-null  object \n",
      "dtypes: float64(4), int64(1), object(12)\n",
      "memory usage: 1.9+ MB\n"
     ]
    }
   ],
   "source": [
    "df.info()"
   ]
  },
  {
   "cell_type": "code",
   "execution_count": 311,
   "metadata": {},
   "outputs": [
    {
     "data": {
      "text/plain": [
       "Name                                      0\n",
       "Country                                  17\n",
       "Brand                                     0\n",
       "Categories                               46\n",
       "Type                                   5236\n",
       "Tasting Notes                         11755\n",
       "ABV                                     994\n",
       "IBU                                   12293\n",
       "Calories Per Serving (12 OZ/0.35L)    13006\n",
       "Carbs Per Serving (12 OZ/0.35L)       13169\n",
       "Food Pairing                          12374\n",
       "Suggested Serving Temperature          3194\n",
       "Rating                                    0\n",
       "Rate Count                                0\n",
       "Price                                     8\n",
       "Volume                                13499\n",
       "Description                            2207\n",
       "dtype: int64"
      ]
     },
     "execution_count": 311,
     "metadata": {},
     "output_type": "execute_result"
    }
   ],
   "source": [
    "df.isnull().sum()"
   ]
  },
  {
   "cell_type": "code",
   "execution_count": 312,
   "metadata": {},
   "outputs": [
    {
     "data": {
      "text/plain": [
       "(13505, 17)"
      ]
     },
     "execution_count": 312,
     "metadata": {},
     "output_type": "execute_result"
    }
   ],
   "source": [
    "original_shape=df.shape\n",
    "original_shape"
   ]
  },
  {
   "cell_type": "code",
   "execution_count": 313,
   "metadata": {},
   "outputs": [
    {
     "data": {
      "text/plain": [
       "Country\n",
       "United States                                   11534\n",
       "Canada                                            502\n",
       "Belgium                                           375\n",
       "Germany                                           243\n",
       "Denmark                                           150\n",
       "                                                ...  \n",
       "Nicaragua                                           1\n",
       "Slovakia                                            1\n",
       "South Georgia and the South Sandwich Islands        1\n",
       "Bulgaria                                            1\n",
       "Cuba                                                1\n",
       "Name: count, Length: 71, dtype: int64"
      ]
     },
     "execution_count": 313,
     "metadata": {},
     "output_type": "execute_result"
    }
   ],
   "source": [
    "df[\"Country\"].value_counts()"
   ]
  },
  {
   "cell_type": "code",
   "execution_count": 314,
   "metadata": {},
   "outputs": [
    {
     "data": {
      "text/plain": [
       "Brand\n",
       "Pipeworks Brewing Company     148\n",
       "Evil Twin                     122\n",
       "Mikkeller                     117\n",
       "Lamplighter Brewing Co.        89\n",
       "Jacks Abby Brewing Company     76\n",
       "                             ... \n",
       "Main St. Brewing                1\n",
       "The Sour Note Brewing           1\n",
       "Side Project Brewing            1\n",
       "Wanderlinger                    1\n",
       "United Brands Company           1\n",
       "Name: count, Length: 2518, dtype: int64"
      ]
     },
     "execution_count": 314,
     "metadata": {},
     "output_type": "execute_result"
    }
   ],
   "source": [
    "df[\"Brand\"].value_counts()"
   ]
  },
  {
   "cell_type": "code",
   "execution_count": 315,
   "metadata": {},
   "outputs": [
    {
     "data": {
      "text/plain": [
       "Categories\n",
       "ALE, IPA                                   2312\n",
       "ALE, Imperial  Double IPA, IPA              782\n",
       "ALE, IPA, New England  Hazy IPA             539\n",
       "Lager, Pilsner                              522\n",
       "ALE, Imperial Stout, Stout                  522\n",
       "                                           ... \n",
       "ALE, Golden  Blonde Ale, Hefeweizen           1\n",
       "ALE, Golden  Blonde Ale, Sour  Wild Ale       1\n",
       "Aurore, Lager, Pilsner                        1\n",
       "ALE, Klsch, Seasonal Ale                      1\n",
       "ALE, IPA, Pale Ale                            1\n",
       "Name: count, Length: 115, dtype: int64"
      ]
     },
     "execution_count": 315,
     "metadata": {},
     "output_type": "execute_result"
    }
   ],
   "source": [
    "df[\"Categories\"].value_counts()"
   ]
  },
  {
   "cell_type": "code",
   "execution_count": 316,
   "metadata": {},
   "outputs": [
    {
     "data": {
      "text/plain": [
       "Type\n",
       "Craft Beer                   7241\n",
       "Independent Craft Brewers     909\n",
       "Seasonal Beer                  65\n",
       "Variety Pack Beer              35\n",
       "Non-Alcoholic Beer             19\n",
       "Name: count, dtype: int64"
      ]
     },
     "execution_count": 316,
     "metadata": {},
     "output_type": "execute_result"
    }
   ],
   "source": [
    "\n",
    "df[\"Type\"].value_counts()"
   ]
  },
  {
   "cell_type": "code",
   "execution_count": 317,
   "metadata": {},
   "outputs": [
    {
     "name": "stdout",
     "output_type": "stream",
     "text": [
      "<class 'pandas.core.frame.DataFrame'>\n",
      "Index: 13473 entries, 0 to 13504\n",
      "Data columns (total 17 columns):\n",
      " #   Column                              Non-Null Count  Dtype  \n",
      "---  ------                              --------------  -----  \n",
      " 0   Name                                13473 non-null  object \n",
      " 1   Country                             13456 non-null  object \n",
      " 2   Brand                               13473 non-null  object \n",
      " 3   Categories                          13427 non-null  object \n",
      " 4   Type                                8262 non-null   object \n",
      " 5   Tasting Notes                       1748 non-null   object \n",
      " 6   ABV                                 12480 non-null  object \n",
      " 7   IBU                                 1212 non-null   float64\n",
      " 8   Calories Per Serving (12 OZ/0.35L)  496 non-null    float64\n",
      " 9   Carbs Per Serving (12 OZ/0.35L)     336 non-null    float64\n",
      " 10  Food Pairing                        1130 non-null   object \n",
      " 11  Suggested Serving Temperature       10293 non-null  object \n",
      " 12  Rating                              13473 non-null  float64\n",
      " 13  Rate Count                          13473 non-null  int64  \n",
      " 14  Price                               13465 non-null  object \n",
      " 15  Volume                              6 non-null      object \n",
      " 16  Description                         11273 non-null  object \n",
      "dtypes: float64(4), int64(1), object(12)\n",
      "memory usage: 1.9+ MB\n"
     ]
    }
   ],
   "source": [
    "df_tmp = df.drop_duplicates()\n",
    "df_tmp.info()"
   ]
  },
  {
   "cell_type": "code",
   "execution_count": 318,
   "metadata": {},
   "outputs": [
    {
     "data": {
      "text/plain": [
       "(13473, 17)"
      ]
     },
     "execution_count": 318,
     "metadata": {},
     "output_type": "execute_result"
    }
   ],
   "source": [
    "df_tmp.shape"
   ]
  },
  {
   "cell_type": "code",
   "execution_count": 319,
   "metadata": {},
   "outputs": [
    {
     "data": {
      "text/html": [
       "<div>\n",
       "<style scoped>\n",
       "    .dataframe tbody tr th:only-of-type {\n",
       "        vertical-align: middle;\n",
       "    }\n",
       "\n",
       "    .dataframe tbody tr th {\n",
       "        vertical-align: top;\n",
       "    }\n",
       "\n",
       "    .dataframe thead th {\n",
       "        text-align: right;\n",
       "    }\n",
       "</style>\n",
       "<table border=\"1\" class=\"dataframe\">\n",
       "  <thead>\n",
       "    <tr style=\"text-align: right;\">\n",
       "      <th></th>\n",
       "      <th>Name</th>\n",
       "      <th>Country</th>\n",
       "      <th>Brand</th>\n",
       "      <th>Categories</th>\n",
       "      <th>Type</th>\n",
       "      <th>Tasting Notes</th>\n",
       "      <th>ABV</th>\n",
       "      <th>IBU</th>\n",
       "      <th>Calories Per Serving (12 OZ/0.35L)</th>\n",
       "      <th>Carbs Per Serving (12 OZ/0.35L)</th>\n",
       "      <th>Food Pairing</th>\n",
       "      <th>Suggested Serving Temperature</th>\n",
       "      <th>Rating</th>\n",
       "      <th>Rate Count</th>\n",
       "      <th>Price</th>\n",
       "      <th>Volume</th>\n",
       "      <th>Description</th>\n",
       "    </tr>\n",
       "  </thead>\n",
       "  <tbody>\n",
       "    <tr>\n",
       "      <th>35</th>\n",
       "      <td>Pipeworks Razbeardo</td>\n",
       "      <td>United States</td>\n",
       "      <td>Pipeworks Brewing Company</td>\n",
       "      <td>ALE, Belgian-Style Ale</td>\n",
       "      <td>Craft Beer</td>\n",
       "      <td>NaN</td>\n",
       "      <td>NaN</td>\n",
       "      <td>NaN</td>\n",
       "      <td>NaN</td>\n",
       "      <td>NaN</td>\n",
       "      <td>NaN</td>\n",
       "      <td>50-55° F</td>\n",
       "      <td>5.0</td>\n",
       "      <td>1</td>\n",
       "      <td>NaN</td>\n",
       "      <td>NaN</td>\n",
       "      <td>Belgian Strong Dark Ale brewed with Nelson Sau...</td>\n",
       "    </tr>\n",
       "    <tr>\n",
       "      <th>1682</th>\n",
       "      <td>Schlafly Hefe</td>\n",
       "      <td>United States</td>\n",
       "      <td>Schlafly</td>\n",
       "      <td>ALE, Wheat Ale</td>\n",
       "      <td>Craft Beer</td>\n",
       "      <td>NaN</td>\n",
       "      <td>NaN</td>\n",
       "      <td>NaN</td>\n",
       "      <td>NaN</td>\n",
       "      <td>NaN</td>\n",
       "      <td>NaN</td>\n",
       "      <td>45-50° F</td>\n",
       "      <td>5.0</td>\n",
       "      <td>1</td>\n",
       "      <td>NaN</td>\n",
       "      <td>NaN</td>\n",
       "      <td>This unfiltered American Wheat Ale is light in...</td>\n",
       "    </tr>\n",
       "    <tr>\n",
       "      <th>7359</th>\n",
       "      <td>Armadillo Ale Works Town Squared</td>\n",
       "      <td>United States</td>\n",
       "      <td>Armadillo Ale Works</td>\n",
       "      <td>ALE, Belgian-Style Ale, Quadrupel</td>\n",
       "      <td>Craft Beer</td>\n",
       "      <td>Apple, Banana, Bold, Bready, Caramel, Cherry, ...</td>\n",
       "      <td>9.5%</td>\n",
       "      <td>40.0</td>\n",
       "      <td>NaN</td>\n",
       "      <td>NaN</td>\n",
       "      <td>Cheese - Hard Aged, Cheese - Nutty  Semi-Firm,...</td>\n",
       "      <td>NaN</td>\n",
       "      <td>5.0</td>\n",
       "      <td>1</td>\n",
       "      <td>NaN</td>\n",
       "      <td>NaN</td>\n",
       "      <td>A Belgian-Style Quadrupel Ale</td>\n",
       "    </tr>\n",
       "    <tr>\n",
       "      <th>8566</th>\n",
       "      <td>Rahr’s Oktoberfest</td>\n",
       "      <td>NaN</td>\n",
       "      <td>Rahr  Sons Brewing Co.</td>\n",
       "      <td>Amber  Vienna Lager, Lager</td>\n",
       "      <td>Craft Beer</td>\n",
       "      <td>Bready, Malty, Roasted</td>\n",
       "      <td>6.7%</td>\n",
       "      <td>NaN</td>\n",
       "      <td>NaN</td>\n",
       "      <td>NaN</td>\n",
       "      <td>NaN</td>\n",
       "      <td>NaN</td>\n",
       "      <td>5.0</td>\n",
       "      <td>1</td>\n",
       "      <td>NaN</td>\n",
       "      <td>NaN</td>\n",
       "      <td>Full body, rich and toasty.  Dark Copper color...</td>\n",
       "    </tr>\n",
       "    <tr>\n",
       "      <th>8693</th>\n",
       "      <td>Black Diamond MOESaic</td>\n",
       "      <td>United States</td>\n",
       "      <td>Black Diamond</td>\n",
       "      <td>ALE, IPA</td>\n",
       "      <td>NaN</td>\n",
       "      <td>NaN</td>\n",
       "      <td>NaN</td>\n",
       "      <td>NaN</td>\n",
       "      <td>NaN</td>\n",
       "      <td>NaN</td>\n",
       "      <td>NaN</td>\n",
       "      <td>45-50° F</td>\n",
       "      <td>5.0</td>\n",
       "      <td>1</td>\n",
       "      <td>NaN</td>\n",
       "      <td>NaN</td>\n",
       "      <td>When we first got our noses in and hands on th...</td>\n",
       "    </tr>\n",
       "    <tr>\n",
       "      <th>9989</th>\n",
       "      <td>Resilience Pompadour</td>\n",
       "      <td>United States</td>\n",
       "      <td>Resilience Brewing</td>\n",
       "      <td>ALE, American Pale Ale, Pale Ale</td>\n",
       "      <td>NaN</td>\n",
       "      <td>NaN</td>\n",
       "      <td>5.6%</td>\n",
       "      <td>NaN</td>\n",
       "      <td>NaN</td>\n",
       "      <td>NaN</td>\n",
       "      <td>NaN</td>\n",
       "      <td>NaN</td>\n",
       "      <td>5.0</td>\n",
       "      <td>1</td>\n",
       "      <td>NaN</td>\n",
       "      <td>NaN</td>\n",
       "      <td>This soft and hazy golden American Pale Ale is...</td>\n",
       "    </tr>\n",
       "    <tr>\n",
       "      <th>12736</th>\n",
       "      <td>BattleRoad 1775 Tavern Ale</td>\n",
       "      <td>United States</td>\n",
       "      <td>Battle Road</td>\n",
       "      <td>ALE, American Pale Ale, Pale Ale</td>\n",
       "      <td>NaN</td>\n",
       "      <td>NaN</td>\n",
       "      <td>NaN</td>\n",
       "      <td>NaN</td>\n",
       "      <td>NaN</td>\n",
       "      <td>NaN</td>\n",
       "      <td>NaN</td>\n",
       "      <td>45-50° F</td>\n",
       "      <td>5.0</td>\n",
       "      <td>1</td>\n",
       "      <td>NaN</td>\n",
       "      <td>NaN</td>\n",
       "      <td>History is rich with revolutions, rebellions, ...</td>\n",
       "    </tr>\n",
       "    <tr>\n",
       "      <th>12906</th>\n",
       "      <td>Metier Brewing Co Trail Blazer Pale Ale</td>\n",
       "      <td>United States</td>\n",
       "      <td>Mtier Brewing Company</td>\n",
       "      <td>ALE, American Pale Ale, Pale Ale</td>\n",
       "      <td>Craft Beer</td>\n",
       "      <td>Citrus, Hoppy, Tropical Fruit</td>\n",
       "      <td>6.2%</td>\n",
       "      <td>47.0</td>\n",
       "      <td>NaN</td>\n",
       "      <td>NaN</td>\n",
       "      <td>NaN</td>\n",
       "      <td>NaN</td>\n",
       "      <td>5.0</td>\n",
       "      <td>1</td>\n",
       "      <td>NaN</td>\n",
       "      <td>NaN</td>\n",
       "      <td>A crisp and delicious Pale Ale. Exhibits a vig...</td>\n",
       "    </tr>\n",
       "  </tbody>\n",
       "</table>\n",
       "</div>"
      ],
      "text/plain": [
       "                                          Name        Country  \\\n",
       "35                         Pipeworks Razbeardo  United States   \n",
       "1682                             Schlafly Hefe  United States   \n",
       "7359          Armadillo Ale Works Town Squared  United States   \n",
       "8566                        Rahr’s Oktoberfest            NaN   \n",
       "8693                     Black Diamond MOESaic  United States   \n",
       "9989                      Resilience Pompadour  United States   \n",
       "12736               BattleRoad 1775 Tavern Ale  United States   \n",
       "12906  Metier Brewing Co Trail Blazer Pale Ale  United States   \n",
       "\n",
       "                           Brand                         Categories  \\\n",
       "35     Pipeworks Brewing Company             ALE, Belgian-Style Ale   \n",
       "1682                    Schlafly                     ALE, Wheat Ale   \n",
       "7359         Armadillo Ale Works  ALE, Belgian-Style Ale, Quadrupel   \n",
       "8566      Rahr  Sons Brewing Co.         Amber  Vienna Lager, Lager   \n",
       "8693               Black Diamond                           ALE, IPA   \n",
       "9989          Resilience Brewing   ALE, American Pale Ale, Pale Ale   \n",
       "12736                Battle Road   ALE, American Pale Ale, Pale Ale   \n",
       "12906      Mtier Brewing Company   ALE, American Pale Ale, Pale Ale   \n",
       "\n",
       "             Type                                      Tasting Notes   ABV  \\\n",
       "35     Craft Beer                                                NaN   NaN   \n",
       "1682   Craft Beer                                                NaN   NaN   \n",
       "7359   Craft Beer  Apple, Banana, Bold, Bready, Caramel, Cherry, ...  9.5%   \n",
       "8566   Craft Beer                             Bready, Malty, Roasted  6.7%   \n",
       "8693          NaN                                                NaN   NaN   \n",
       "9989          NaN                                                NaN  5.6%   \n",
       "12736         NaN                                                NaN   NaN   \n",
       "12906  Craft Beer                      Citrus, Hoppy, Tropical Fruit  6.2%   \n",
       "\n",
       "        IBU  Calories Per Serving (12 OZ/0.35L)  \\\n",
       "35      NaN                                 NaN   \n",
       "1682    NaN                                 NaN   \n",
       "7359   40.0                                 NaN   \n",
       "8566    NaN                                 NaN   \n",
       "8693    NaN                                 NaN   \n",
       "9989    NaN                                 NaN   \n",
       "12736   NaN                                 NaN   \n",
       "12906  47.0                                 NaN   \n",
       "\n",
       "       Carbs Per Serving (12 OZ/0.35L)  \\\n",
       "35                                 NaN   \n",
       "1682                               NaN   \n",
       "7359                               NaN   \n",
       "8566                               NaN   \n",
       "8693                               NaN   \n",
       "9989                               NaN   \n",
       "12736                              NaN   \n",
       "12906                              NaN   \n",
       "\n",
       "                                            Food Pairing  \\\n",
       "35                                                   NaN   \n",
       "1682                                                 NaN   \n",
       "7359   Cheese - Hard Aged, Cheese - Nutty  Semi-Firm,...   \n",
       "8566                                                 NaN   \n",
       "8693                                                 NaN   \n",
       "9989                                                 NaN   \n",
       "12736                                                NaN   \n",
       "12906                                                NaN   \n",
       "\n",
       "      Suggested Serving Temperature  Rating  Rate Count Price Volume  \\\n",
       "35                         50-55° F     5.0           1   NaN    NaN   \n",
       "1682                       45-50° F     5.0           1   NaN    NaN   \n",
       "7359                            NaN     5.0           1   NaN    NaN   \n",
       "8566                            NaN     5.0           1   NaN    NaN   \n",
       "8693                       45-50° F     5.0           1   NaN    NaN   \n",
       "9989                            NaN     5.0           1   NaN    NaN   \n",
       "12736                      45-50° F     5.0           1   NaN    NaN   \n",
       "12906                           NaN     5.0           1   NaN    NaN   \n",
       "\n",
       "                                             Description  \n",
       "35     Belgian Strong Dark Ale brewed with Nelson Sau...  \n",
       "1682   This unfiltered American Wheat Ale is light in...  \n",
       "7359                       A Belgian-Style Quadrupel Ale  \n",
       "8566   Full body, rich and toasty.  Dark Copper color...  \n",
       "8693   When we first got our noses in and hands on th...  \n",
       "9989   This soft and hazy golden American Pale Ale is...  \n",
       "12736  History is rich with revolutions, rebellions, ...  \n",
       "12906  A crisp and delicious Pale Ale. Exhibits a vig...  "
      ]
     },
     "execution_count": 319,
     "metadata": {},
     "output_type": "execute_result"
    }
   ],
   "source": [
    "null_rows = df_tmp.loc[df_tmp[\"Price\"].isnull()]\n",
    "\n",
    "null_rows"
   ]
  },
  {
   "cell_type": "code",
   "execution_count": 320,
   "metadata": {},
   "outputs": [
    {
     "data": {
      "text/plain": [
       "Rating    0\n",
       "Price     8\n",
       "dtype: int64"
      ]
     },
     "execution_count": 320,
     "metadata": {},
     "output_type": "execute_result"
    }
   ],
   "source": [
    "df_tmp[[\"Rating\",\"Price\"]].isna().sum()"
   ]
  },
  {
   "cell_type": "code",
   "execution_count": 321,
   "metadata": {},
   "outputs": [],
   "source": [
    "#https://pbpython.com/currency-cleanup.html\n",
    "def clean_currency(x):\n",
    "    if isinstance(x, str):\n",
    "        return(x.replace('$', '').replace(',', ''))\n",
    "    return(x)\n"
   ]
  },
  {
   "cell_type": "code",
   "execution_count": 322,
   "metadata": {},
   "outputs": [
    {
     "name": "stdout",
     "output_type": "stream",
     "text": [
      "<class 'pandas.core.series.Series'>\n",
      "Index: 13473 entries, 0 to 13504\n",
      "Series name: Price\n",
      "Non-Null Count  Dtype  \n",
      "--------------  -----  \n",
      "13465 non-null  float64\n",
      "dtypes: float64(1)\n",
      "memory usage: 210.5 KB\n"
     ]
    }
   ],
   "source": [
    "df_tmp2 = df_tmp.copy()\n",
    "df_tmp2['Price']=df_tmp2['Price'].apply(clean_currency).astype('float')\n",
    "df_tmp2['Price'].info()"
   ]
  },
  {
   "cell_type": "code",
   "execution_count": 323,
   "metadata": {},
   "outputs": [
    {
     "name": "stdout",
     "output_type": "stream",
     "text": [
      "El valor de la Media de la columna es: 23.56\n"
     ]
    }
   ],
   "source": [
    "price_mean = df_tmp2['Price'].mean()\n",
    "print(\"El valor de la Media de la columna es: %.2f\" % price_mean)\n",
    "\n",
    "\n"
   ]
  },
  {
   "cell_type": "code",
   "execution_count": 324,
   "metadata": {},
   "outputs": [],
   "source": [
    "# Replace NaN with mean value\n",
    "df_tmp2['Price']=df_tmp2['Price'].fillna(price_mean)"
   ]
  },
  {
   "cell_type": "code",
   "execution_count": 325,
   "metadata": {},
   "outputs": [
    {
     "data": {
      "text/plain": [
       "Rating        0\n",
       "Price         0\n",
       "Volume    13467\n",
       "dtype: int64"
      ]
     },
     "execution_count": 325,
     "metadata": {},
     "output_type": "execute_result"
    }
   ],
   "source": [
    "df_tmp2[[\"Rating\",\"Price\",\"Volume\"]].isna().sum()"
   ]
  },
  {
   "cell_type": "code",
   "execution_count": 326,
   "metadata": {},
   "outputs": [],
   "source": [
    "\n",
    "# Replacing original df\n",
    "df = df_tmp2.copy()\n",
    "\n",
    "# Deleting df, exta objects not needed anymore\n",
    "# del df_tmp\n",
    "# del df_tmp2\n"
   ]
  },
  {
   "cell_type": "code",
   "execution_count": 327,
   "metadata": {},
   "outputs": [
    {
     "data": {
      "text/plain": [
       "count    13473.000000\n",
       "mean         4.998033\n",
       "std          0.061562\n",
       "min          2.500000\n",
       "25%          5.000000\n",
       "50%          5.000000\n",
       "75%          5.000000\n",
       "max          5.000000\n",
       "Name: Rating, dtype: float64"
      ]
     },
     "execution_count": 327,
     "metadata": {},
     "output_type": "execute_result"
    }
   ],
   "source": [
    "df[\"Rating\"].describe()"
   ]
  },
  {
   "cell_type": "code",
   "execution_count": 328,
   "metadata": {},
   "outputs": [],
   "source": [
    "import matplotlib.pyplot as plt\n",
    "import seaborn as sns\n",
    "\n",
    "def graph_continues_types(df,colName):\n",
    "    fig,ax = plt.subplots(2,2,figsize=(8,6))\n",
    "    fig.autofmt_xdate()\n",
    "    sns.histplot(data=df,x=colName,kde=True,ax=ax[0,0]) #visualiza densidad de kernel\n",
    "    sns.boxplot(x=df[colName],ax=ax[0,1],showmeans=True)\n",
    "    sns.barplot(data=df, y=colName,err_kws={'color': 'orange'},ax=ax[1,0])\n",
    "    sns.violinplot(x=df[colName],ax=ax[1,1]) # por defecto dibuja un boxplot en miniatura"
   ]
  },
  {
   "cell_type": "code",
   "execution_count": 329,
   "metadata": {},
   "outputs": [
    {
     "data": {
      "image/png": "[encoded data removed]",
      "text/plain": [
       "<Figure size 800x600 with 4 Axes>"
      ]
     },
     "metadata": {},
     "output_type": "display_data"
    }
   ],
   "source": [
    "graph_continues_types(df,\"Rating\")"
   ]
  },
  {
   "cell_type": "code",
   "execution_count": 330,
   "metadata": {},
   "outputs": [
    {
     "data": {
      "text/plain": [
       "count    13473.000000\n",
       "mean        23.560316\n",
       "std         48.579489\n",
       "min          0.000000\n",
       "25%          9.990000\n",
       "50%         11.990000\n",
       "75%         15.990000\n",
       "max        617.000000\n",
       "Name: Price, dtype: float64"
      ]
     },
     "execution_count": 330,
     "metadata": {},
     "output_type": "execute_result"
    }
   ],
   "source": [
    "df[\"Price\"].describe()"
   ]
  },
  {
   "cell_type": "code",
   "execution_count": 331,
   "metadata": {},
   "outputs": [
    {
     "data": {
      "image/png": "[encoded data removed]",
      "text/plain": [
       "<Figure size 800x600 with 4 Axes>"
      ]
     },
     "metadata": {},
     "output_type": "display_data"
    }
   ],
   "source": [
    "graph_continues_types(df,\"Price\")"
   ]
  },
  {
   "cell_type": "code",
   "execution_count": 332,
   "metadata": {},
   "outputs": [
    {
     "data": {
      "image/png": "[encoded data removed]",
      "text/plain": [
       "<Figure size 800x600 with 4 Axes>"
      ]
     },
     "metadata": {},
     "output_type": "display_data"
    }
   ],
   "source": [
    "graph_continues_types(df,\"Rate Count\")\n"
   ]
  },
  {
   "cell_type": "code",
   "execution_count": 333,
   "metadata": {},
   "outputs": [
    {
     "data": {
      "text/plain": [
       "count         6\n",
       "unique        6\n",
       "top       12 OZ\n",
       "freq          1\n",
       "Name: Volume, dtype: object"
      ]
     },
     "execution_count": 333,
     "metadata": {},
     "output_type": "execute_result"
    }
   ],
   "source": [
    "df[\"Volume\"].describe()"
   ]
  },
  {
   "cell_type": "code",
   "execution_count": 334,
   "metadata": {},
   "outputs": [
    {
     "data": {
      "image/png": "[encoded data removed]",
      "text/plain": [
       "<Figure size 800x600 with 4 Axes>"
      ]
     },
     "metadata": {},
     "output_type": "display_data"
    }
   ],
   "source": [
    "graph_continues_types(df,\"Volume\")"
   ]
  },
  {
   "cell_type": "code",
   "execution_count": 335,
   "metadata": {},
   "outputs": [
    {
     "data": {
      "text/plain": [
       "count     12480\n",
       "unique      240\n",
       "top          5%\n",
       "freq       1106\n",
       "Name: ABV, dtype: object"
      ]
     },
     "execution_count": 335,
     "metadata": {},
     "output_type": "execute_result"
    }
   ],
   "source": [
    "\n",
    "df[\"ABV\"].describe()\n",
    "\n"
   ]
  },
  {
   "cell_type": "code",
   "execution_count": 336,
   "metadata": {},
   "outputs": [
    {
     "data": {
      "text/plain": [
       "ABV    993\n",
       "dtype: int64"
      ]
     },
     "execution_count": 336,
     "metadata": {},
     "output_type": "execute_result"
    }
   ],
   "source": [
    "df_tmp2[[\"ABV\"]].isna().sum()"
   ]
  },
  {
   "cell_type": "code",
   "execution_count": 337,
   "metadata": {},
   "outputs": [],
   "source": [
    "#Removing rows with NaN values in ABV,Country\n",
    "cols=('ABV',\"Country\")\n",
    "\n",
    "df=df.dropna(subset=cols)\n"
   ]
  },
  {
   "cell_type": "code",
   "execution_count": 338,
   "metadata": {},
   "outputs": [
    {
     "data": {
      "text/plain": [
       "ABV    0\n",
       "dtype: int64"
      ]
     },
     "execution_count": 338,
     "metadata": {},
     "output_type": "execute_result"
    }
   ],
   "source": [
    "df[[\"ABV\"]].isna().sum()"
   ]
  },
  {
   "cell_type": "code",
   "execution_count": 339,
   "metadata": {},
   "outputs": [
    {
     "data": {
      "text/html": [
       "<div>\n",
       "<style scoped>\n",
       "    .dataframe tbody tr th:only-of-type {\n",
       "        vertical-align: middle;\n",
       "    }\n",
       "\n",
       "    .dataframe tbody tr th {\n",
       "        vertical-align: top;\n",
       "    }\n",
       "\n",
       "    .dataframe thead th {\n",
       "        text-align: right;\n",
       "    }\n",
       "</style>\n",
       "<table border=\"1\" class=\"dataframe\">\n",
       "  <thead>\n",
       "    <tr style=\"text-align: right;\">\n",
       "      <th></th>\n",
       "      <th>ABV</th>\n",
       "    </tr>\n",
       "  </thead>\n",
       "  <tbody>\n",
       "    <tr>\n",
       "      <th>0</th>\n",
       "      <td>8%</td>\n",
       "    </tr>\n",
       "    <tr>\n",
       "      <th>1</th>\n",
       "      <td>6%</td>\n",
       "    </tr>\n",
       "    <tr>\n",
       "      <th>2</th>\n",
       "      <td>6.5%</td>\n",
       "    </tr>\n",
       "    <tr>\n",
       "      <th>3</th>\n",
       "      <td>9%</td>\n",
       "    </tr>\n",
       "    <tr>\n",
       "      <th>4</th>\n",
       "      <td>8.5%</td>\n",
       "    </tr>\n",
       "  </tbody>\n",
       "</table>\n",
       "</div>"
      ],
      "text/plain": [
       "    ABV\n",
       "0    8%\n",
       "1    6%\n",
       "2  6.5%\n",
       "3    9%\n",
       "4  8.5%"
      ]
     },
     "execution_count": 339,
     "metadata": {},
     "output_type": "execute_result"
    }
   ],
   "source": [
    "df[[\"ABV\"]].describe()\n",
    "df[[\"ABV\"]].head()"
   ]
  },
  {
   "cell_type": "code",
   "execution_count": 340,
   "metadata": {},
   "outputs": [],
   "source": [
    "def clean_percentage(x):\n",
    "    if isinstance(x, str):\n",
    "        return(x.replace('%', ''))\n",
    "    return(x)"
   ]
  },
  {
   "cell_type": "code",
   "execution_count": 341,
   "metadata": {},
   "outputs": [
    {
     "data": {
      "text/plain": [
       "'8'"
      ]
     },
     "execution_count": 341,
     "metadata": {},
     "output_type": "execute_result"
    }
   ],
   "source": [
    "clean_percentage('8%')"
   ]
  },
  {
   "cell_type": "code",
   "execution_count": 342,
   "metadata": {},
   "outputs": [],
   "source": [
    "df['ABV']=df['ABV'].apply(clean_percentage).astype('float')"
   ]
  },
  {
   "cell_type": "code",
   "execution_count": 343,
   "metadata": {},
   "outputs": [
    {
     "data": {
      "text/html": [
       "<div>\n",
       "<style scoped>\n",
       "    .dataframe tbody tr th:only-of-type {\n",
       "        vertical-align: middle;\n",
       "    }\n",
       "\n",
       "    .dataframe tbody tr th {\n",
       "        vertical-align: top;\n",
       "    }\n",
       "\n",
       "    .dataframe thead th {\n",
       "        text-align: right;\n",
       "    }\n",
       "</style>\n",
       "<table border=\"1\" class=\"dataframe\">\n",
       "  <thead>\n",
       "    <tr style=\"text-align: right;\">\n",
       "      <th></th>\n",
       "      <th>ABV</th>\n",
       "    </tr>\n",
       "  </thead>\n",
       "  <tbody>\n",
       "    <tr>\n",
       "      <th>0</th>\n",
       "      <td>8.0</td>\n",
       "    </tr>\n",
       "    <tr>\n",
       "      <th>1</th>\n",
       "      <td>6.0</td>\n",
       "    </tr>\n",
       "    <tr>\n",
       "      <th>2</th>\n",
       "      <td>6.5</td>\n",
       "    </tr>\n",
       "    <tr>\n",
       "      <th>3</th>\n",
       "      <td>9.0</td>\n",
       "    </tr>\n",
       "    <tr>\n",
       "      <th>4</th>\n",
       "      <td>8.5</td>\n",
       "    </tr>\n",
       "    <tr>\n",
       "      <th>5</th>\n",
       "      <td>9.0</td>\n",
       "    </tr>\n",
       "    <tr>\n",
       "      <th>7</th>\n",
       "      <td>9.0</td>\n",
       "    </tr>\n",
       "    <tr>\n",
       "      <th>10</th>\n",
       "      <td>10.0</td>\n",
       "    </tr>\n",
       "    <tr>\n",
       "      <th>11</th>\n",
       "      <td>9.5</td>\n",
       "    </tr>\n",
       "    <tr>\n",
       "      <th>14</th>\n",
       "      <td>9.0</td>\n",
       "    </tr>\n",
       "  </tbody>\n",
       "</table>\n",
       "</div>"
      ],
      "text/plain": [
       "     ABV\n",
       "0    8.0\n",
       "1    6.0\n",
       "2    6.5\n",
       "3    9.0\n",
       "4    8.5\n",
       "5    9.0\n",
       "7    9.0\n",
       "10  10.0\n",
       "11   9.5\n",
       "14   9.0"
      ]
     },
     "execution_count": 343,
     "metadata": {},
     "output_type": "execute_result"
    }
   ],
   "source": [
    "df[[\"ABV\"]].describe()\n",
    "df[[\"ABV\"]].head(10)"
   ]
  },
  {
   "cell_type": "code",
   "execution_count": 344,
   "metadata": {},
   "outputs": [
    {
     "data": {
      "image/png": "[encoded data removed]",
      "text/plain": [
       "<Figure size 800x600 with 4 Axes>"
      ]
     },
     "metadata": {},
     "output_type": "display_data"
    }
   ],
   "source": [
    "\n",
    "graph_continues_types(df,\"ABV\")"
   ]
  },
  {
   "cell_type": "code",
   "execution_count": 358,
   "metadata": {},
   "outputs": [
    {
     "data": {
      "text/plain": [
       "<matplotlib.collections.PathCollection at 0x292b56f80>"
      ]
     },
     "execution_count": 358,
     "metadata": {},
     "output_type": "execute_result"
    },
    {
     "data": {
      "image/png": "[encoded data removed]",
      "text/plain": [
       "<Figure size 640x480 with 1 Axes>"
      ]
     },
     "metadata": {},
     "output_type": "display_data"
    }
   ],
   "source": [
    "plt.scatter(df[\"ABV\"],df['Price'])"
   ]
  },
  {
   "cell_type": "code",
   "execution_count": 362,
   "metadata": {},
   "outputs": [
    {
     "data": {
      "text/plain": [
       "<matplotlib.collections.PathCollection at 0x294a0a8f0>"
      ]
     },
     "execution_count": 362,
     "metadata": {},
     "output_type": "execute_result"
    },
    {
     "data": {
      "image/png": "[encoded data removed]",
      "text/plain": [
       "<Figure size 640x480 with 1 Axes>"
      ]
     },
     "metadata": {},
     "output_type": "display_data"
    }
   ],
   "source": [
    "\n",
    "df_tmp=df[(df[\"Price\"] > 100)]\n",
    "plt.scatter(df_tmp[\"ABV\"],df_tmp['Price'])"
   ]
  },
  {
   "cell_type": "code",
   "execution_count": 350,
   "metadata": {},
   "outputs": [
    {
     "data": {
      "text/plain": [
       "Name                                      0\n",
       "Country                                   0\n",
       "Brand                                     0\n",
       "Categories                               45\n",
       "Type                                   4739\n",
       "Tasting Notes                         10739\n",
       "ABV                                       0\n",
       "IBU                                   11263\n",
       "Calories Per Serving (12 OZ/0.35L)    11986\n",
       "Carbs Per Serving (12 OZ/0.35L)       12143\n",
       "Food Pairing                          11350\n",
       "Suggested Serving Temperature          2688\n",
       "Rating                                    0\n",
       "Rate Count                                0\n",
       "Price                                     0\n",
       "Volume                                12458\n",
       "Description                            1554\n",
       "dtype: int64"
      ]
     },
     "execution_count": 350,
     "metadata": {},
     "output_type": "execute_result"
    }
   ],
   "source": [
    "df.isnull().sum()\n"
   ]
  },
  {
   "cell_type": "code",
   "execution_count": 352,
   "metadata": {},
   "outputs": [
    {
     "name": "stdout",
     "output_type": "stream",
     "text": [
      "original_shape= (13505, 17)\n",
      "Current_shape (12464, 17)\n",
      "Removed= 1041\n"
     ]
    }
   ],
   "source": [
    "print(\"original_shape=\",original_shape)\n",
    "print(\"Current_shape\",df.shape)\n",
    "print(\"Removed=\",original_shape[0] -df.shape[0])"
   ]
  },
  {
   "cell_type": "code",
   "execution_count": 356,
   "metadata": {},
   "outputs": [],
   "source": [
    "\n",
    "df_for_activity_regression=df[[\"ABV\",'Price']]\n",
    "\n",
    "df_for_activity_regression.to_csv('../data/interim/beer_data_only_ABV_Price.csv', index=False)"
   ]
  }
 ],
 "metadata": {
  "kernelspec": {
   "display_name": "machine_learning",
   "language": "python",
   "name": "python3"
  },
  "language_info": {
   "codemirror_mode": {
    "name": "ipython",
    "version": 3
   },
   "file_extension": ".py",
   "mimetype": "text/x-python",
   "name": "python",
   "nbconvert_exporter": "python",
   "pygments_lexer": "ipython3",
   "version": "3.10.13"
  }
 },
 "nbformat": 4,
 "nbformat_minor": 2
}

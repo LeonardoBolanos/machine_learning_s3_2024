{
 "cells": [
  {
   "cell_type": "markdown",
   "metadata": {},
   "source": [
    "# Titanic Dataset from Kaggle\n",
    "- https://www.kaggle.com/datasets/yasserh/titanic-dataset/data\n",
    "\n",
    "### About this file\n",
    "\n",
    "The sinking of the Titanic is one of the most infamous shipwrecks in history.\n",
    "\n",
    "On April 15, 1912, during her maiden voyage, the widely considered “unsinkable” RMS Titanic sank after colliding with an iceberg. Unfortunately, there weren’t enough lifeboats for everyone on board, resulting in the death of 1502 out of 2224 passengers and crew.\n",
    "\n",
    "While there was some element of luck involved in surviving, it seems some groups of people were more likely to survive than others.\n",
    "\n",
    "In this challenge, we ask you to build a predictive model that answers the question: “what sorts of people were more likely to survive?” using passenger data (ie name, age, gender, socio-economic class, etc)."
   ]
  },
  {
   "cell_type": "markdown",
   "metadata": {},
   "source": [
    "#### Data:\n",
    " - PassengerId: Passenger Id \n",
    " - Survived: O: No 1=Yes   \n",
    " - Pclass: 1: 1st 2: 2nd 3 = 3rd\n",
    " - Name: Name of the Passenger\n",
    " - Sex: male or female\n",
    " - Age: Age in Years\n",
    " - SibSp: No. of siblings / spouses aboard the Titanic\n",
    " - Parch: No. of parents / children aboard the Titanic\n",
    " - Ticket: Ticket number\n",
    " - Fare: Passenger fare\n",
    " - Cabin: Cabin (Removed from final dataset)\n",
    " - Embarked: Port of Embarkation. C = Cherbourg, Q = Queenstown, S = Southampton U = Unknown\n"
   ]
  },
  {
   "cell_type": "code",
   "execution_count": 1,
   "metadata": {},
   "outputs": [],
   "source": [
    "import pandas as pd \n",
    "from sklearn.model_selection import train_test_split\n",
    "import numpy as np\n",
    "import matplotlib.pyplot as plt"
   ]
  },
  {
   "cell_type": "code",
   "execution_count": 2,
   "metadata": {},
   "outputs": [
    {
     "name": "stderr",
     "output_type": "stream",
     "text": [
      "/opt/anaconda3/envs/machine_learning/lib/python3.10/site-packages/tqdm/auto.py:21: TqdmWarning: IProgress not found. Please update jupyter and ipywidgets. See https://ipywidgets.readthedocs.io/en/stable/user_install.html\n",
      "  from .autonotebook import tqdm as notebook_tqdm\n"
     ]
    },
    {
     "name": "stdout",
     "output_type": "stream",
     "text": [
      "Path to dataset files: /Users/leonardoomarbolanosrivera/.cache/kagglehub/datasets/yasserh/titanic-dataset/versions/1\n"
     ]
    }
   ],
   "source": [
    "# run  make requirements first\n",
    "\n",
    "# https://pypi.org/project/kagglehub/\n",
    "\n",
    "import kagglehub\n",
    "\n",
    "# Download latest version\n",
    "path_titanic_dataset = kagglehub.dataset_download(\"yasserh/titanic-dataset\")\n",
    "\n",
    "print(\"Path to dataset files:\", path_titanic_dataset)"
   ]
  },
  {
   "cell_type": "code",
   "execution_count": 3,
   "metadata": {},
   "outputs": [],
   "source": [
    "# Reading data and removing index col\n",
    "df = pd.read_csv(f\"{path_titanic_dataset}/Titanic-Dataset.csv\")"
   ]
  },
  {
   "cell_type": "code",
   "execution_count": 4,
   "metadata": {},
   "outputs": [
    {
     "data": {
      "text/html": [
       "<div>\n",
       "<style scoped>\n",
       "    .dataframe tbody tr th:only-of-type {\n",
       "        vertical-align: middle;\n",
       "    }\n",
       "\n",
       "    .dataframe tbody tr th {\n",
       "        vertical-align: top;\n",
       "    }\n",
       "\n",
       "    .dataframe thead th {\n",
       "        text-align: right;\n",
       "    }\n",
       "</style>\n",
       "<table border=\"1\" class=\"dataframe\">\n",
       "  <thead>\n",
       "    <tr style=\"text-align: right;\">\n",
       "      <th></th>\n",
       "      <th>PassengerId</th>\n",
       "      <th>Survived</th>\n",
       "      <th>Pclass</th>\n",
       "      <th>Name</th>\n",
       "      <th>Sex</th>\n",
       "      <th>Age</th>\n",
       "      <th>SibSp</th>\n",
       "      <th>Parch</th>\n",
       "      <th>Ticket</th>\n",
       "      <th>Fare</th>\n",
       "      <th>Cabin</th>\n",
       "      <th>Embarked</th>\n",
       "    </tr>\n",
       "  </thead>\n",
       "  <tbody>\n",
       "    <tr>\n",
       "      <th>0</th>\n",
       "      <td>1</td>\n",
       "      <td>0</td>\n",
       "      <td>3</td>\n",
       "      <td>Braund, Mr. Owen Harris</td>\n",
       "      <td>male</td>\n",
       "      <td>22.0</td>\n",
       "      <td>1</td>\n",
       "      <td>0</td>\n",
       "      <td>A/5 21171</td>\n",
       "      <td>7.2500</td>\n",
       "      <td>NaN</td>\n",
       "      <td>S</td>\n",
       "    </tr>\n",
       "    <tr>\n",
       "      <th>1</th>\n",
       "      <td>2</td>\n",
       "      <td>1</td>\n",
       "      <td>1</td>\n",
       "      <td>Cumings, Mrs. John Bradley (Florence Briggs Th...</td>\n",
       "      <td>female</td>\n",
       "      <td>38.0</td>\n",
       "      <td>1</td>\n",
       "      <td>0</td>\n",
       "      <td>PC 17599</td>\n",
       "      <td>71.2833</td>\n",
       "      <td>C85</td>\n",
       "      <td>C</td>\n",
       "    </tr>\n",
       "    <tr>\n",
       "      <th>2</th>\n",
       "      <td>3</td>\n",
       "      <td>1</td>\n",
       "      <td>3</td>\n",
       "      <td>Heikkinen, Miss. Laina</td>\n",
       "      <td>female</td>\n",
       "      <td>26.0</td>\n",
       "      <td>0</td>\n",
       "      <td>0</td>\n",
       "      <td>STON/O2. 3101282</td>\n",
       "      <td>7.9250</td>\n",
       "      <td>NaN</td>\n",
       "      <td>S</td>\n",
       "    </tr>\n",
       "    <tr>\n",
       "      <th>3</th>\n",
       "      <td>4</td>\n",
       "      <td>1</td>\n",
       "      <td>1</td>\n",
       "      <td>Futrelle, Mrs. Jacques Heath (Lily May Peel)</td>\n",
       "      <td>female</td>\n",
       "      <td>35.0</td>\n",
       "      <td>1</td>\n",
       "      <td>0</td>\n",
       "      <td>113803</td>\n",
       "      <td>53.1000</td>\n",
       "      <td>C123</td>\n",
       "      <td>S</td>\n",
       "    </tr>\n",
       "    <tr>\n",
       "      <th>4</th>\n",
       "      <td>5</td>\n",
       "      <td>0</td>\n",
       "      <td>3</td>\n",
       "      <td>Allen, Mr. William Henry</td>\n",
       "      <td>male</td>\n",
       "      <td>35.0</td>\n",
       "      <td>0</td>\n",
       "      <td>0</td>\n",
       "      <td>373450</td>\n",
       "      <td>8.0500</td>\n",
       "      <td>NaN</td>\n",
       "      <td>S</td>\n",
       "    </tr>\n",
       "  </tbody>\n",
       "</table>\n",
       "</div>"
      ],
      "text/plain": [
       "   PassengerId  Survived  Pclass  \\\n",
       "0            1         0       3   \n",
       "1            2         1       1   \n",
       "2            3         1       3   \n",
       "3            4         1       1   \n",
       "4            5         0       3   \n",
       "\n",
       "                                                Name     Sex   Age  SibSp  \\\n",
       "0                            Braund, Mr. Owen Harris    male  22.0      1   \n",
       "1  Cumings, Mrs. John Bradley (Florence Briggs Th...  female  38.0      1   \n",
       "2                             Heikkinen, Miss. Laina  female  26.0      0   \n",
       "3       Futrelle, Mrs. Jacques Heath (Lily May Peel)  female  35.0      1   \n",
       "4                           Allen, Mr. William Henry    male  35.0      0   \n",
       "\n",
       "   Parch            Ticket     Fare Cabin Embarked  \n",
       "0      0         A/5 21171   7.2500   NaN        S  \n",
       "1      0          PC 17599  71.2833   C85        C  \n",
       "2      0  STON/O2. 3101282   7.9250   NaN        S  \n",
       "3      0            113803  53.1000  C123        S  \n",
       "4      0            373450   8.0500   NaN        S  "
      ]
     },
     "execution_count": 4,
     "metadata": {},
     "output_type": "execute_result"
    }
   ],
   "source": [
    "df.head()"
   ]
  },
  {
   "cell_type": "code",
   "execution_count": 5,
   "metadata": {},
   "outputs": [
    {
     "name": "stdout",
     "output_type": "stream",
     "text": [
      "<class 'pandas.core.frame.DataFrame'>\n",
      "RangeIndex: 891 entries, 0 to 890\n",
      "Data columns (total 12 columns):\n",
      " #   Column       Non-Null Count  Dtype  \n",
      "---  ------       --------------  -----  \n",
      " 0   PassengerId  891 non-null    int64  \n",
      " 1   Survived     891 non-null    int64  \n",
      " 2   Pclass       891 non-null    int64  \n",
      " 3   Name         891 non-null    object \n",
      " 4   Sex          891 non-null    object \n",
      " 5   Age          714 non-null    float64\n",
      " 6   SibSp        891 non-null    int64  \n",
      " 7   Parch        891 non-null    int64  \n",
      " 8   Ticket       891 non-null    object \n",
      " 9   Fare         891 non-null    float64\n",
      " 10  Cabin        204 non-null    object \n",
      " 11  Embarked     889 non-null    object \n",
      "dtypes: float64(2), int64(5), object(5)\n",
      "memory usage: 83.7+ KB\n"
     ]
    }
   ],
   "source": [
    "df.info()"
   ]
  },
  {
   "cell_type": "code",
   "execution_count": 6,
   "metadata": {},
   "outputs": [
    {
     "data": {
      "text/plain": [
       "(891, 12)"
      ]
     },
     "execution_count": 6,
     "metadata": {},
     "output_type": "execute_result"
    }
   ],
   "source": [
    "# 891 rows and 12 cols\n",
    "df.shape"
   ]
  },
  {
   "cell_type": "code",
   "execution_count": 7,
   "metadata": {},
   "outputs": [
    {
     "data": {
      "text/plain": [
       "PassengerId      0\n",
       "Survived         0\n",
       "Pclass           0\n",
       "Name             0\n",
       "Sex              0\n",
       "Age            177\n",
       "SibSp            0\n",
       "Parch            0\n",
       "Ticket           0\n",
       "Fare             0\n",
       "Cabin          687\n",
       "Embarked         2\n",
       "dtype: int64"
      ]
     },
     "execution_count": 7,
     "metadata": {},
     "output_type": "execute_result"
    }
   ],
   "source": [
    "df.isnull().sum()"
   ]
  },
  {
   "cell_type": "code",
   "execution_count": 8,
   "metadata": {},
   "outputs": [
    {
     "data": {
      "text/html": [
       "<div>\n",
       "<style scoped>\n",
       "    .dataframe tbody tr th:only-of-type {\n",
       "        vertical-align: middle;\n",
       "    }\n",
       "\n",
       "    .dataframe tbody tr th {\n",
       "        vertical-align: top;\n",
       "    }\n",
       "\n",
       "    .dataframe thead th {\n",
       "        text-align: right;\n",
       "    }\n",
       "</style>\n",
       "<table border=\"1\" class=\"dataframe\">\n",
       "  <thead>\n",
       "    <tr style=\"text-align: right;\">\n",
       "      <th></th>\n",
       "      <th>PassengerId</th>\n",
       "      <th>Survived</th>\n",
       "      <th>Pclass</th>\n",
       "      <th>Name</th>\n",
       "      <th>Sex</th>\n",
       "      <th>Age</th>\n",
       "      <th>SibSp</th>\n",
       "      <th>Parch</th>\n",
       "      <th>Ticket</th>\n",
       "      <th>Fare</th>\n",
       "      <th>Cabin</th>\n",
       "      <th>Embarked</th>\n",
       "    </tr>\n",
       "  </thead>\n",
       "  <tbody>\n",
       "    <tr>\n",
       "      <th>0</th>\n",
       "      <td>1</td>\n",
       "      <td>0</td>\n",
       "      <td>3</td>\n",
       "      <td>Braund, Mr. Owen Harris</td>\n",
       "      <td>male</td>\n",
       "      <td>22.0</td>\n",
       "      <td>1</td>\n",
       "      <td>0</td>\n",
       "      <td>A/5 21171</td>\n",
       "      <td>7.2500</td>\n",
       "      <td>NaN</td>\n",
       "      <td>S</td>\n",
       "    </tr>\n",
       "    <tr>\n",
       "      <th>2</th>\n",
       "      <td>3</td>\n",
       "      <td>1</td>\n",
       "      <td>3</td>\n",
       "      <td>Heikkinen, Miss. Laina</td>\n",
       "      <td>female</td>\n",
       "      <td>26.0</td>\n",
       "      <td>0</td>\n",
       "      <td>0</td>\n",
       "      <td>STON/O2. 3101282</td>\n",
       "      <td>7.9250</td>\n",
       "      <td>NaN</td>\n",
       "      <td>S</td>\n",
       "    </tr>\n",
       "    <tr>\n",
       "      <th>4</th>\n",
       "      <td>5</td>\n",
       "      <td>0</td>\n",
       "      <td>3</td>\n",
       "      <td>Allen, Mr. William Henry</td>\n",
       "      <td>male</td>\n",
       "      <td>35.0</td>\n",
       "      <td>0</td>\n",
       "      <td>0</td>\n",
       "      <td>373450</td>\n",
       "      <td>8.0500</td>\n",
       "      <td>NaN</td>\n",
       "      <td>S</td>\n",
       "    </tr>\n",
       "    <tr>\n",
       "      <th>5</th>\n",
       "      <td>6</td>\n",
       "      <td>0</td>\n",
       "      <td>3</td>\n",
       "      <td>Moran, Mr. James</td>\n",
       "      <td>male</td>\n",
       "      <td>NaN</td>\n",
       "      <td>0</td>\n",
       "      <td>0</td>\n",
       "      <td>330877</td>\n",
       "      <td>8.4583</td>\n",
       "      <td>NaN</td>\n",
       "      <td>Q</td>\n",
       "    </tr>\n",
       "    <tr>\n",
       "      <th>7</th>\n",
       "      <td>8</td>\n",
       "      <td>0</td>\n",
       "      <td>3</td>\n",
       "      <td>Palsson, Master. Gosta Leonard</td>\n",
       "      <td>male</td>\n",
       "      <td>2.0</td>\n",
       "      <td>3</td>\n",
       "      <td>1</td>\n",
       "      <td>349909</td>\n",
       "      <td>21.0750</td>\n",
       "      <td>NaN</td>\n",
       "      <td>S</td>\n",
       "    </tr>\n",
       "  </tbody>\n",
       "</table>\n",
       "</div>"
      ],
      "text/plain": [
       "   PassengerId  Survived  Pclass                            Name     Sex  \\\n",
       "0            1         0       3         Braund, Mr. Owen Harris    male   \n",
       "2            3         1       3          Heikkinen, Miss. Laina  female   \n",
       "4            5         0       3        Allen, Mr. William Henry    male   \n",
       "5            6         0       3                Moran, Mr. James    male   \n",
       "7            8         0       3  Palsson, Master. Gosta Leonard    male   \n",
       "\n",
       "    Age  SibSp  Parch            Ticket     Fare Cabin Embarked  \n",
       "0  22.0      1      0         A/5 21171   7.2500   NaN        S  \n",
       "2  26.0      0      0  STON/O2. 3101282   7.9250   NaN        S  \n",
       "4  35.0      0      0            373450   8.0500   NaN        S  \n",
       "5   NaN      0      0            330877   8.4583   NaN        Q  \n",
       "7   2.0      3      1            349909  21.0750   NaN        S  "
      ]
     },
     "execution_count": 8,
     "metadata": {},
     "output_type": "execute_result"
    }
   ],
   "source": [
    "\n",
    "df.loc[df[\"Cabin\"].isnull()].head()"
   ]
  },
  {
   "cell_type": "markdown",
   "metadata": {},
   "source": [
    "#### Cabing tiene demasiados NaN . Seleccionamos todas la columnas excepto Cabin"
   ]
  },
  {
   "cell_type": "code",
   "execution_count": 9,
   "metadata": {},
   "outputs": [],
   "source": [
    "df=df[[\"PassengerId\",\t\"Survived\",\t\"Pclass\",\t\"Name\",\t\"Sex\",\t\"Age\",\t\"SibSp\",\t\"Parch\",\t\"Ticket\",\t\"Fare\",\t\"Embarked\"]]"
   ]
  },
  {
   "cell_type": "code",
   "execution_count": 10,
   "metadata": {},
   "outputs": [
    {
     "data": {
      "text/html": [
       "<div>\n",
       "<style scoped>\n",
       "    .dataframe tbody tr th:only-of-type {\n",
       "        vertical-align: middle;\n",
       "    }\n",
       "\n",
       "    .dataframe tbody tr th {\n",
       "        vertical-align: top;\n",
       "    }\n",
       "\n",
       "    .dataframe thead th {\n",
       "        text-align: right;\n",
       "    }\n",
       "</style>\n",
       "<table border=\"1\" class=\"dataframe\">\n",
       "  <thead>\n",
       "    <tr style=\"text-align: right;\">\n",
       "      <th></th>\n",
       "      <th>PassengerId</th>\n",
       "      <th>Survived</th>\n",
       "      <th>Pclass</th>\n",
       "      <th>Name</th>\n",
       "      <th>Sex</th>\n",
       "      <th>Age</th>\n",
       "      <th>SibSp</th>\n",
       "      <th>Parch</th>\n",
       "      <th>Ticket</th>\n",
       "      <th>Fare</th>\n",
       "      <th>Embarked</th>\n",
       "    </tr>\n",
       "  </thead>\n",
       "  <tbody>\n",
       "    <tr>\n",
       "      <th>0</th>\n",
       "      <td>1</td>\n",
       "      <td>0</td>\n",
       "      <td>3</td>\n",
       "      <td>Braund, Mr. Owen Harris</td>\n",
       "      <td>male</td>\n",
       "      <td>22.0</td>\n",
       "      <td>1</td>\n",
       "      <td>0</td>\n",
       "      <td>A/5 21171</td>\n",
       "      <td>7.2500</td>\n",
       "      <td>S</td>\n",
       "    </tr>\n",
       "    <tr>\n",
       "      <th>1</th>\n",
       "      <td>2</td>\n",
       "      <td>1</td>\n",
       "      <td>1</td>\n",
       "      <td>Cumings, Mrs. John Bradley (Florence Briggs Th...</td>\n",
       "      <td>female</td>\n",
       "      <td>38.0</td>\n",
       "      <td>1</td>\n",
       "      <td>0</td>\n",
       "      <td>PC 17599</td>\n",
       "      <td>71.2833</td>\n",
       "      <td>C</td>\n",
       "    </tr>\n",
       "    <tr>\n",
       "      <th>2</th>\n",
       "      <td>3</td>\n",
       "      <td>1</td>\n",
       "      <td>3</td>\n",
       "      <td>Heikkinen, Miss. Laina</td>\n",
       "      <td>female</td>\n",
       "      <td>26.0</td>\n",
       "      <td>0</td>\n",
       "      <td>0</td>\n",
       "      <td>STON/O2. 3101282</td>\n",
       "      <td>7.9250</td>\n",
       "      <td>S</td>\n",
       "    </tr>\n",
       "    <tr>\n",
       "      <th>3</th>\n",
       "      <td>4</td>\n",
       "      <td>1</td>\n",
       "      <td>1</td>\n",
       "      <td>Futrelle, Mrs. Jacques Heath (Lily May Peel)</td>\n",
       "      <td>female</td>\n",
       "      <td>35.0</td>\n",
       "      <td>1</td>\n",
       "      <td>0</td>\n",
       "      <td>113803</td>\n",
       "      <td>53.1000</td>\n",
       "      <td>S</td>\n",
       "    </tr>\n",
       "    <tr>\n",
       "      <th>4</th>\n",
       "      <td>5</td>\n",
       "      <td>0</td>\n",
       "      <td>3</td>\n",
       "      <td>Allen, Mr. William Henry</td>\n",
       "      <td>male</td>\n",
       "      <td>35.0</td>\n",
       "      <td>0</td>\n",
       "      <td>0</td>\n",
       "      <td>373450</td>\n",
       "      <td>8.0500</td>\n",
       "      <td>S</td>\n",
       "    </tr>\n",
       "  </tbody>\n",
       "</table>\n",
       "</div>"
      ],
      "text/plain": [
       "   PassengerId  Survived  Pclass  \\\n",
       "0            1         0       3   \n",
       "1            2         1       1   \n",
       "2            3         1       3   \n",
       "3            4         1       1   \n",
       "4            5         0       3   \n",
       "\n",
       "                                                Name     Sex   Age  SibSp  \\\n",
       "0                            Braund, Mr. Owen Harris    male  22.0      1   \n",
       "1  Cumings, Mrs. John Bradley (Florence Briggs Th...  female  38.0      1   \n",
       "2                             Heikkinen, Miss. Laina  female  26.0      0   \n",
       "3       Futrelle, Mrs. Jacques Heath (Lily May Peel)  female  35.0      1   \n",
       "4                           Allen, Mr. William Henry    male  35.0      0   \n",
       "\n",
       "   Parch            Ticket     Fare Embarked  \n",
       "0      0         A/5 21171   7.2500        S  \n",
       "1      0          PC 17599  71.2833        C  \n",
       "2      0  STON/O2. 3101282   7.9250        S  \n",
       "3      0            113803  53.1000        S  \n",
       "4      0            373450   8.0500        S  "
      ]
     },
     "execution_count": 10,
     "metadata": {},
     "output_type": "execute_result"
    }
   ],
   "source": [
    "df.head()"
   ]
  },
  {
   "cell_type": "markdown",
   "metadata": {},
   "source": [
    "# En el caso de Age podemos usar la media para los datos nulos. "
   ]
  },
  {
   "cell_type": "code",
   "execution_count": 11,
   "metadata": {},
   "outputs": [
    {
     "data": {
      "text/html": [
       "<div>\n",
       "<style scoped>\n",
       "    .dataframe tbody tr th:only-of-type {\n",
       "        vertical-align: middle;\n",
       "    }\n",
       "\n",
       "    .dataframe tbody tr th {\n",
       "        vertical-align: top;\n",
       "    }\n",
       "\n",
       "    .dataframe thead th {\n",
       "        text-align: right;\n",
       "    }\n",
       "</style>\n",
       "<table border=\"1\" class=\"dataframe\">\n",
       "  <thead>\n",
       "    <tr style=\"text-align: right;\">\n",
       "      <th></th>\n",
       "      <th>PassengerId</th>\n",
       "      <th>Survived</th>\n",
       "      <th>Pclass</th>\n",
       "      <th>Name</th>\n",
       "      <th>Sex</th>\n",
       "      <th>Age</th>\n",
       "      <th>SibSp</th>\n",
       "      <th>Parch</th>\n",
       "      <th>Ticket</th>\n",
       "      <th>Fare</th>\n",
       "      <th>Embarked</th>\n",
       "    </tr>\n",
       "  </thead>\n",
       "  <tbody>\n",
       "    <tr>\n",
       "      <th>5</th>\n",
       "      <td>6</td>\n",
       "      <td>0</td>\n",
       "      <td>3</td>\n",
       "      <td>Moran, Mr. James</td>\n",
       "      <td>male</td>\n",
       "      <td>NaN</td>\n",
       "      <td>0</td>\n",
       "      <td>0</td>\n",
       "      <td>330877</td>\n",
       "      <td>8.4583</td>\n",
       "      <td>Q</td>\n",
       "    </tr>\n",
       "    <tr>\n",
       "      <th>17</th>\n",
       "      <td>18</td>\n",
       "      <td>1</td>\n",
       "      <td>2</td>\n",
       "      <td>Williams, Mr. Charles Eugene</td>\n",
       "      <td>male</td>\n",
       "      <td>NaN</td>\n",
       "      <td>0</td>\n",
       "      <td>0</td>\n",
       "      <td>244373</td>\n",
       "      <td>13.0000</td>\n",
       "      <td>S</td>\n",
       "    </tr>\n",
       "    <tr>\n",
       "      <th>19</th>\n",
       "      <td>20</td>\n",
       "      <td>1</td>\n",
       "      <td>3</td>\n",
       "      <td>Masselmani, Mrs. Fatima</td>\n",
       "      <td>female</td>\n",
       "      <td>NaN</td>\n",
       "      <td>0</td>\n",
       "      <td>0</td>\n",
       "      <td>2649</td>\n",
       "      <td>7.2250</td>\n",
       "      <td>C</td>\n",
       "    </tr>\n",
       "    <tr>\n",
       "      <th>26</th>\n",
       "      <td>27</td>\n",
       "      <td>0</td>\n",
       "      <td>3</td>\n",
       "      <td>Emir, Mr. Farred Chehab</td>\n",
       "      <td>male</td>\n",
       "      <td>NaN</td>\n",
       "      <td>0</td>\n",
       "      <td>0</td>\n",
       "      <td>2631</td>\n",
       "      <td>7.2250</td>\n",
       "      <td>C</td>\n",
       "    </tr>\n",
       "    <tr>\n",
       "      <th>28</th>\n",
       "      <td>29</td>\n",
       "      <td>1</td>\n",
       "      <td>3</td>\n",
       "      <td>O'Dwyer, Miss. Ellen \"Nellie\"</td>\n",
       "      <td>female</td>\n",
       "      <td>NaN</td>\n",
       "      <td>0</td>\n",
       "      <td>0</td>\n",
       "      <td>330959</td>\n",
       "      <td>7.8792</td>\n",
       "      <td>Q</td>\n",
       "    </tr>\n",
       "  </tbody>\n",
       "</table>\n",
       "</div>"
      ],
      "text/plain": [
       "    PassengerId  Survived  Pclass                           Name     Sex  Age  \\\n",
       "5             6         0       3               Moran, Mr. James    male  NaN   \n",
       "17           18         1       2   Williams, Mr. Charles Eugene    male  NaN   \n",
       "19           20         1       3        Masselmani, Mrs. Fatima  female  NaN   \n",
       "26           27         0       3        Emir, Mr. Farred Chehab    male  NaN   \n",
       "28           29         1       3  O'Dwyer, Miss. Ellen \"Nellie\"  female  NaN   \n",
       "\n",
       "    SibSp  Parch  Ticket     Fare Embarked  \n",
       "5       0      0  330877   8.4583        Q  \n",
       "17      0      0  244373  13.0000        S  \n",
       "19      0      0    2649   7.2250        C  \n",
       "26      0      0    2631   7.2250        C  \n",
       "28      0      0  330959   7.8792        Q  "
      ]
     },
     "execution_count": 11,
     "metadata": {},
     "output_type": "execute_result"
    }
   ],
   "source": [
    "df.loc[df[\"Age\"].isnull()].head()"
   ]
  },
  {
   "cell_type": "code",
   "execution_count": 12,
   "metadata": {},
   "outputs": [
    {
     "name": "stdout",
     "output_type": "stream",
     "text": [
      "El valor de la Media de la columna es: 29.70\n"
     ]
    }
   ],
   "source": [
    "age_mean = df['Age'].mean()\n",
    "age_mean\n",
    "print(\"El valor de la Media de la columna es: %.2f\" % age_mean)"
   ]
  },
  {
   "cell_type": "code",
   "execution_count": 13,
   "metadata": {},
   "outputs": [],
   "source": [
    "#Asignación de Valores de Media a los Valores Nulos\n",
    "df.loc[:, \"Age\"] =df.loc[:, 'Age'].fillna(age_mean)\n",
    "\n",
    "\n"
   ]
  },
  {
   "cell_type": "code",
   "execution_count": 14,
   "metadata": {},
   "outputs": [
    {
     "data": {
      "text/plain": [
       "PassengerId    0\n",
       "Survived       0\n",
       "Pclass         0\n",
       "Name           0\n",
       "Sex            0\n",
       "Age            0\n",
       "SibSp          0\n",
       "Parch          0\n",
       "Ticket         0\n",
       "Fare           0\n",
       "Embarked       2\n",
       "dtype: int64"
      ]
     },
     "execution_count": 14,
     "metadata": {},
     "output_type": "execute_result"
    }
   ],
   "source": [
    "df.isnull().sum()"
   ]
  },
  {
   "cell_type": "markdown",
   "metadata": {},
   "source": [
    "# En el caso de Embarked  Podemos marcarlo con U para desconocido"
   ]
  },
  {
   "cell_type": "code",
   "execution_count": 15,
   "metadata": {},
   "outputs": [
    {
     "data": {
      "text/html": [
       "<div>\n",
       "<style scoped>\n",
       "    .dataframe tbody tr th:only-of-type {\n",
       "        vertical-align: middle;\n",
       "    }\n",
       "\n",
       "    .dataframe tbody tr th {\n",
       "        vertical-align: top;\n",
       "    }\n",
       "\n",
       "    .dataframe thead th {\n",
       "        text-align: right;\n",
       "    }\n",
       "</style>\n",
       "<table border=\"1\" class=\"dataframe\">\n",
       "  <thead>\n",
       "    <tr style=\"text-align: right;\">\n",
       "      <th></th>\n",
       "      <th>PassengerId</th>\n",
       "      <th>Survived</th>\n",
       "      <th>Pclass</th>\n",
       "      <th>Name</th>\n",
       "      <th>Sex</th>\n",
       "      <th>Age</th>\n",
       "      <th>SibSp</th>\n",
       "      <th>Parch</th>\n",
       "      <th>Ticket</th>\n",
       "      <th>Fare</th>\n",
       "      <th>Embarked</th>\n",
       "    </tr>\n",
       "  </thead>\n",
       "  <tbody>\n",
       "    <tr>\n",
       "      <th>61</th>\n",
       "      <td>62</td>\n",
       "      <td>1</td>\n",
       "      <td>1</td>\n",
       "      <td>Icard, Miss. Amelie</td>\n",
       "      <td>female</td>\n",
       "      <td>38.0</td>\n",
       "      <td>0</td>\n",
       "      <td>0</td>\n",
       "      <td>113572</td>\n",
       "      <td>80.0</td>\n",
       "      <td>NaN</td>\n",
       "    </tr>\n",
       "    <tr>\n",
       "      <th>829</th>\n",
       "      <td>830</td>\n",
       "      <td>1</td>\n",
       "      <td>1</td>\n",
       "      <td>Stone, Mrs. George Nelson (Martha Evelyn)</td>\n",
       "      <td>female</td>\n",
       "      <td>62.0</td>\n",
       "      <td>0</td>\n",
       "      <td>0</td>\n",
       "      <td>113572</td>\n",
       "      <td>80.0</td>\n",
       "      <td>NaN</td>\n",
       "    </tr>\n",
       "  </tbody>\n",
       "</table>\n",
       "</div>"
      ],
      "text/plain": [
       "     PassengerId  Survived  Pclass                                       Name  \\\n",
       "61            62         1       1                        Icard, Miss. Amelie   \n",
       "829          830         1       1  Stone, Mrs. George Nelson (Martha Evelyn)   \n",
       "\n",
       "        Sex   Age  SibSp  Parch  Ticket  Fare Embarked  \n",
       "61   female  38.0      0      0  113572  80.0      NaN  \n",
       "829  female  62.0      0      0  113572  80.0      NaN  "
      ]
     },
     "execution_count": 15,
     "metadata": {},
     "output_type": "execute_result"
    }
   ],
   "source": [
    "df.loc[df[\"Embarked\"].isnull()]"
   ]
  },
  {
   "cell_type": "code",
   "execution_count": 16,
   "metadata": {},
   "outputs": [],
   "source": [
    "df.loc[df[\"Embarked\"].isnull(),\"Embarked\"]='U'\n"
   ]
  },
  {
   "cell_type": "code",
   "execution_count": 17,
   "metadata": {},
   "outputs": [
    {
     "data": {
      "text/html": [
       "<div>\n",
       "<style scoped>\n",
       "    .dataframe tbody tr th:only-of-type {\n",
       "        vertical-align: middle;\n",
       "    }\n",
       "\n",
       "    .dataframe tbody tr th {\n",
       "        vertical-align: top;\n",
       "    }\n",
       "\n",
       "    .dataframe thead th {\n",
       "        text-align: right;\n",
       "    }\n",
       "</style>\n",
       "<table border=\"1\" class=\"dataframe\">\n",
       "  <thead>\n",
       "    <tr style=\"text-align: right;\">\n",
       "      <th></th>\n",
       "      <th>PassengerId</th>\n",
       "      <th>Survived</th>\n",
       "      <th>Pclass</th>\n",
       "      <th>Name</th>\n",
       "      <th>Sex</th>\n",
       "      <th>Age</th>\n",
       "      <th>SibSp</th>\n",
       "      <th>Parch</th>\n",
       "      <th>Ticket</th>\n",
       "      <th>Fare</th>\n",
       "      <th>Embarked</th>\n",
       "    </tr>\n",
       "  </thead>\n",
       "  <tbody>\n",
       "  </tbody>\n",
       "</table>\n",
       "</div>"
      ],
      "text/plain": [
       "Empty DataFrame\n",
       "Columns: [PassengerId, Survived, Pclass, Name, Sex, Age, SibSp, Parch, Ticket, Fare, Embarked]\n",
       "Index: []"
      ]
     },
     "execution_count": 17,
     "metadata": {},
     "output_type": "execute_result"
    }
   ],
   "source": [
    "df.loc[df[\"Embarked\"].isnull()]"
   ]
  },
  {
   "cell_type": "code",
   "execution_count": 18,
   "metadata": {},
   "outputs": [
    {
     "data": {
      "text/plain": [
       "Embarked\n",
       "S    644\n",
       "C    168\n",
       "Q     77\n",
       "U      2\n",
       "Name: count, dtype: int64"
      ]
     },
     "execution_count": 18,
     "metadata": {},
     "output_type": "execute_result"
    }
   ],
   "source": [
    "df.Embarked.value_counts()"
   ]
  },
  {
   "cell_type": "markdown",
   "metadata": {},
   "source": [
    "# Funcion sigmoide \n",
    "\n",
    "$$ S(x)=\\sigma(x) =  \\frac{1}{1 + e^{-x}} $$\n",
    "\n",
    "# Derivada de la funcion sigmoide\n",
    "$$ \\sigma'(x) =  \\frac{e^{-x}}{(1 + e^{-x})^2} $$\n",
    "\n",
    "# Otra forma de escribir la Derivada de la funcion sigmoide\n",
    "\n",
    "$$ \\sigma'(x) =  (\\sigma(x))(1-\\sigma(x)) $$\n",
    "\n",
    "####  Tomado de https://interactivechaos.com/es/manual/tutorial-de-deep-learning/derivada-de-la-funcion-sigmoide\n",
    "\n",
    "# La derivama mostrada arriba es lo mismo que \n",
    "$$ y' =  y(1 - y) $$\n",
    "\n",
    "#### Tomado de https://es.wikipedia.org/wiki/Funci%C3%B3n_sigmoide\n",
    "\n",
    "\n",
    "#### Estimacion\n",
    "\n",
    "$$\\hat{y} = h_{\\Theta}(x) = \\frac{1}{1 + e^{-wx + b}} $$\n",
    "\n",
    "\n",
    "#### Calculo del error usando Cross Entropy\n",
    "\n",
    "\n",
    "$$ J(w,b) = J({\\Theta}) = \\frac{1}{N} \\Sigma_{i=1}^{n}  [y^{i}log(h_{\\Theta}(x^{i})) + (1-y^{i})log(1-h_{\\Theta}(x^{i}))]  $$\n",
    "\n",
    "#### Derivada de J(w,b)\n",
    "\n",
    "$$ \n",
    "J'({\\Theta})=\n",
    "\\begin{bmatrix}\n",
    "\\frac{dJ}{dw} \\\\\n",
    "\\\\\n",
    "\\frac{dJ}{db} \n",
    "\\end{bmatrix}\n",
    "=\n",
    "\\begin{bmatrix}\n",
    "...\n",
    "\\end{bmatrix}\n",
    "=\n",
    "\\begin{bmatrix}\n",
    "\\frac{1}{N}  \\Sigma 2x_i(\\hat{y}-y_i) \\\\\n",
    "\\\\\n",
    "\\frac{1}{N}  \\Sigma 2(\\hat{y}-y_i)\n",
    "\\end{bmatrix}\n",
    "$$\n",
    "\n",
    "\n",
    "#### Markdown simbols cheatsheet.md  https://gist.github.com/LKS90/252ac41bd4a173be35b0\n",
    "#### https://es.overleaf.com/learn/latex/Matrices"
   ]
  },
  {
   "cell_type": "code",
   "execution_count": 19,
   "metadata": {},
   "outputs": [],
   "source": [
    "class LinearReg:\n",
    "\n",
    "    def __init__(self, lr = 0.01, epochs = 100):\n",
    "        self.lr = lr\n",
    "        self.epochs = epochs\n",
    "        self.weights = None\n",
    "        self.bias = None\n",
    "\n",
    "\n",
    "    def fit(self, X, y):\n",
    "\n",
    "        #This is going to look like (150,1) where m is 150 and n 1\n",
    "        m, n = X.shape\n",
    "\n",
    "        #Generates a random of n values in a list of 1 rows\n",
    "        self.weights = np.random.rand(n, 1)\n",
    "        self.bias = np.random.rand(1)\n",
    "\n",
    "        # convert a value like (150,) to (150,1)\n",
    "        y = y.reshape(m, 1)\n",
    "\n",
    "        losses = list()\n",
    "        b_list = list()\n",
    "        w_list = list()\n",
    "\n",
    "        for epoch in range(self.epochs):\n",
    "\n",
    "            # calculate prediction\n",
    "            # y ^ = wx + b\n",
    "            y_hat = np.dot(X, self.weights) + self.bias\n",
    "\n",
    "            # get loss - L - J\n",
    "            loss = np.mean((y - y_hat)**2) # MSE\n",
    "            losses.append(loss)\n",
    "\n",
    "            # calculate gradient\n",
    "            dw = (-2 / m) * np.dot(X.T, (y - y_hat))\n",
    "            db = (-2 / m) * np.sum((y - y_hat))\n",
    "\n",
    "            # update params\n",
    "            self.weights = self.weights - self.lr * dw\n",
    "            self.bias = self.bias - self.lr * db\n",
    "\n",
    "            w_list.append(self.weights)\n",
    "            b_list.append(self.bias)\n",
    "\n",
    "            print(f\"epoch: {epoch}, loss: {loss}, w: {self.weights}, b: {self.bias}\")\n",
    "\n",
    "        return self.weights, self.bias, losses, b_list, w_list\n",
    "    \n",
    "    def predict(self, X):\n",
    "        return np.dot(X, self.weights) + self.bias"
   ]
  },
  {
   "cell_type": "code",
   "execution_count": 20,
   "metadata": {},
   "outputs": [],
   "source": [
    "class RegresionLogistica():\n",
    "    def __init__(self, lr = 0.001, epochs = 100,show=True):\n",
    "        self.lr = lr\n",
    "        self.epochs = epochs\n",
    "        self.weights = None\n",
    "        self.bias = None\n",
    "        self.show=show\n",
    "        self.losses = list()\n",
    "        self.b_list = list()\n",
    "        self.w_list = list()\n",
    "\n",
    "    def sigmoid(self,x):\n",
    "        return (1 / (1 + np.exp(-x)))\n",
    "\n",
    "    def fit(self, X, y):\n",
    "\n",
    "         #This is going to look like (150,1) (n_samples, n_features)\n",
    "        n_samples, n_features = X.shape\n",
    "\n",
    "        #Generates a random of n values in a list of 1 rows\n",
    "        self.weights = np.random.rand(n_features)\n",
    "        self.bias = np.random.rand(1)\n",
    "\n",
    "        # convert a value like (150,) to (150,1)\n",
    "        y = y.reshape(n_samples)\n",
    "\n",
    "        self.losses = list()\n",
    "        self.b_list = list()\n",
    "        self.w_list = list()\n",
    "        \n",
    "\n",
    "\n",
    "        for epoch in range(self.epochs):\n",
    "            # calculate prediction\n",
    "            # y ^ = wx + b\n",
    "            y_hat_linear = np.dot(X, self.weights) + self.bias\n",
    "            # y^ = sigmoid(wx + b)\n",
    "            y_hat = self.sigmoid(y_hat_linear)\n",
    "\n",
    "            #Agregado epsilon por que se rompe si tienes  log(0) con \"divide by zero encountered\"\n",
    "            eps = 1e-12  # avoid log(0) or log(1) issues\n",
    "            loss = (1/n_samples)*np.sum(y * np.log(y_hat + eps) + (1-y) * np.log(1-y_hat + eps))  # Cross entropy\n",
    "            self.losses.append(loss)\n",
    "\n",
    "            # calculate gradient\n",
    "            ## Derivada de J(w,b) Cross entropy\n",
    "            # Derivada de w\n",
    "            dw = (2/n_samples) * np.dot(X.T,(y_hat - y))\n",
    "            # Derivada de b\n",
    "            db = (2/n_samples) * np.sum((y_hat - y))\n",
    "\n",
    "             # update params\n",
    "            self.weights = self.weights - self.lr * dw\n",
    "            self.bias = self.bias - self.lr * db\n",
    "\n",
    "            self.w_list.append(self.weights)\n",
    "            self.b_list.append(self.bias)\n",
    "\n",
    "            if (self.show == True):\n",
    "                print(f\"epoch: {epoch}, loss: {loss} , w: {self.weights}, b: {self.bias}\")\n",
    "\n",
    "    \n",
    "    \n",
    "    def predict(self, X):\n",
    "        # calculate prediction\n",
    "        # y ^ = wx + b\n",
    "        y_hat_linear = np.dot(X, self.weights) + self.bias\n",
    "        # y^ = sigmoid(wx + b)\n",
    "        y_hat = self.sigmoid(y_hat_linear)\n",
    "\n",
    "    \n",
    "        prediccion=[ 1 if y > 0.5 else 0 for y in y_hat ]\n",
    "        return prediccion\n"
   ]
  },
  {
   "cell_type": "markdown",
   "metadata": {},
   "source": [
    "## Trabajando con el dataset de titatic\n",
    "\n",
    "# Variable a predecir\n",
    "- y = Survived: O: No 1=Yes \n",
    "\n",
    "## Posibles caracteristicas \n",
    " - Pclass: 1: 1st 2: 2nd 3 = 3rd\n",
    " - Sex: male or female\n",
    " - Age: Age in Years\n",
    " - Fare: Passenger fare\n",
    " - Embarked: Port of Embarkation. C = Cherbourg, Q = Queenstown, S = Southampton U = Unknown\n",
    "\n",
    "\n",
    "# No usables o excluidos\n",
    "- PassengerId: Passenger Id \n",
    "- Name: Name of the Passenger\n",
    "- Ticket: Ticket number\n",
    "- Cabin: Cabin (Removed from final dataset)\n",
    " \n",
    "- SibSp: No. of siblings / spouses aboard the Titanic\n",
    "- Parch: No. of parents / children aboard the Titanic\n",
    "\n",
    "\n"
   ]
  },
  {
   "cell_type": "code",
   "execution_count": 21,
   "metadata": {},
   "outputs": [],
   "source": [
    "tmp_df_to_predict=df[[\"Survived\"]]"
   ]
  },
  {
   "cell_type": "code",
   "execution_count": 22,
   "metadata": {},
   "outputs": [],
   "source": [
    "df=df[[\"Pclass\",\"Sex\",\t\"Age\",\"Fare\",\t\"Embarked\"]]"
   ]
  },
  {
   "cell_type": "markdown",
   "metadata": {},
   "source": [
    "###  Se necesita convertir valores nominales a numericos"
   ]
  },
  {
   "cell_type": "code",
   "execution_count": 23,
   "metadata": {},
   "outputs": [
    {
     "data": {
      "text/html": [
       "<div>\n",
       "<style scoped>\n",
       "    .dataframe tbody tr th:only-of-type {\n",
       "        vertical-align: middle;\n",
       "    }\n",
       "\n",
       "    .dataframe tbody tr th {\n",
       "        vertical-align: top;\n",
       "    }\n",
       "\n",
       "    .dataframe thead th {\n",
       "        text-align: right;\n",
       "    }\n",
       "</style>\n",
       "<table border=\"1\" class=\"dataframe\">\n",
       "  <thead>\n",
       "    <tr style=\"text-align: right;\">\n",
       "      <th></th>\n",
       "      <th>Pclass</th>\n",
       "      <th>Sex</th>\n",
       "      <th>Age</th>\n",
       "      <th>Fare</th>\n",
       "      <th>Embarked</th>\n",
       "    </tr>\n",
       "  </thead>\n",
       "  <tbody>\n",
       "    <tr>\n",
       "      <th>0</th>\n",
       "      <td>3</td>\n",
       "      <td>male</td>\n",
       "      <td>22.0</td>\n",
       "      <td>7.2500</td>\n",
       "      <td>S</td>\n",
       "    </tr>\n",
       "    <tr>\n",
       "      <th>1</th>\n",
       "      <td>1</td>\n",
       "      <td>female</td>\n",
       "      <td>38.0</td>\n",
       "      <td>71.2833</td>\n",
       "      <td>C</td>\n",
       "    </tr>\n",
       "    <tr>\n",
       "      <th>2</th>\n",
       "      <td>3</td>\n",
       "      <td>female</td>\n",
       "      <td>26.0</td>\n",
       "      <td>7.9250</td>\n",
       "      <td>S</td>\n",
       "    </tr>\n",
       "    <tr>\n",
       "      <th>3</th>\n",
       "      <td>1</td>\n",
       "      <td>female</td>\n",
       "      <td>35.0</td>\n",
       "      <td>53.1000</td>\n",
       "      <td>S</td>\n",
       "    </tr>\n",
       "    <tr>\n",
       "      <th>4</th>\n",
       "      <td>3</td>\n",
       "      <td>male</td>\n",
       "      <td>35.0</td>\n",
       "      <td>8.0500</td>\n",
       "      <td>S</td>\n",
       "    </tr>\n",
       "  </tbody>\n",
       "</table>\n",
       "</div>"
      ],
      "text/plain": [
       "   Pclass     Sex   Age     Fare Embarked\n",
       "0       3    male  22.0   7.2500        S\n",
       "1       1  female  38.0  71.2833        C\n",
       "2       3  female  26.0   7.9250        S\n",
       "3       1  female  35.0  53.1000        S\n",
       "4       3    male  35.0   8.0500        S"
      ]
     },
     "execution_count": 23,
     "metadata": {},
     "output_type": "execute_result"
    }
   ],
   "source": [
    "df.head()"
   ]
  },
  {
   "cell_type": "markdown",
   "metadata": {},
   "source": [
    "## Variables categoricas"
   ]
  },
  {
   "cell_type": "code",
   "execution_count": 24,
   "metadata": {},
   "outputs": [
    {
     "data": {
      "text/plain": [
       "Pclass\n",
       "3         491\n",
       "1         216\n",
       "2         184\n",
       "Name: count, dtype: int64"
      ]
     },
     "execution_count": 24,
     "metadata": {},
     "output_type": "execute_result"
    }
   ],
   "source": [
    "df[[\"Pclass\"]].value_counts()"
   ]
  },
  {
   "cell_type": "code",
   "execution_count": 25,
   "metadata": {},
   "outputs": [
    {
     "data": {
      "text/plain": [
       "Sex   \n",
       "male      577\n",
       "female    314\n",
       "Name: count, dtype: int64"
      ]
     },
     "execution_count": 25,
     "metadata": {},
     "output_type": "execute_result"
    }
   ],
   "source": [
    "df[[\"Sex\"]].value_counts()"
   ]
  },
  {
   "cell_type": "code",
   "execution_count": 26,
   "metadata": {},
   "outputs": [
    {
     "data": {
      "text/plain": [
       "Embarked\n",
       "S           644\n",
       "C           168\n",
       "Q            77\n",
       "U             2\n",
       "Name: count, dtype: int64"
      ]
     },
     "execution_count": 26,
     "metadata": {},
     "output_type": "execute_result"
    }
   ],
   "source": [
    "df[[\"Embarked\"]].value_counts()"
   ]
  },
  {
   "cell_type": "code",
   "execution_count": 27,
   "metadata": {},
   "outputs": [
    {
     "data": {
      "text/html": [
       "<div>\n",
       "<style scoped>\n",
       "    .dataframe tbody tr th:only-of-type {\n",
       "        vertical-align: middle;\n",
       "    }\n",
       "\n",
       "    .dataframe tbody tr th {\n",
       "        vertical-align: top;\n",
       "    }\n",
       "\n",
       "    .dataframe thead th {\n",
       "        text-align: right;\n",
       "    }\n",
       "</style>\n",
       "<table border=\"1\" class=\"dataframe\">\n",
       "  <thead>\n",
       "    <tr style=\"text-align: right;\">\n",
       "      <th></th>\n",
       "      <th>Embarked</th>\n",
       "    </tr>\n",
       "  </thead>\n",
       "  <tbody>\n",
       "    <tr>\n",
       "      <th>0</th>\n",
       "      <td>S</td>\n",
       "    </tr>\n",
       "    <tr>\n",
       "      <th>1</th>\n",
       "      <td>C</td>\n",
       "    </tr>\n",
       "    <tr>\n",
       "      <th>2</th>\n",
       "      <td>S</td>\n",
       "    </tr>\n",
       "    <tr>\n",
       "      <th>3</th>\n",
       "      <td>S</td>\n",
       "    </tr>\n",
       "    <tr>\n",
       "      <th>4</th>\n",
       "      <td>S</td>\n",
       "    </tr>\n",
       "    <tr>\n",
       "      <th>...</th>\n",
       "      <td>...</td>\n",
       "    </tr>\n",
       "    <tr>\n",
       "      <th>886</th>\n",
       "      <td>S</td>\n",
       "    </tr>\n",
       "    <tr>\n",
       "      <th>887</th>\n",
       "      <td>S</td>\n",
       "    </tr>\n",
       "    <tr>\n",
       "      <th>888</th>\n",
       "      <td>S</td>\n",
       "    </tr>\n",
       "    <tr>\n",
       "      <th>889</th>\n",
       "      <td>C</td>\n",
       "    </tr>\n",
       "    <tr>\n",
       "      <th>890</th>\n",
       "      <td>Q</td>\n",
       "    </tr>\n",
       "  </tbody>\n",
       "</table>\n",
       "<p>891 rows × 1 columns</p>\n",
       "</div>"
      ],
      "text/plain": [
       "    Embarked\n",
       "0          S\n",
       "1          C\n",
       "2          S\n",
       "3          S\n",
       "4          S\n",
       "..       ...\n",
       "886        S\n",
       "887        S\n",
       "888        S\n",
       "889        C\n",
       "890        Q\n",
       "\n",
       "[891 rows x 1 columns]"
      ]
     },
     "execution_count": 27,
     "metadata": {},
     "output_type": "execute_result"
    }
   ],
   "source": [
    "df[[\"Embarked\"]]"
   ]
  },
  {
   "cell_type": "markdown",
   "metadata": {},
   "source": [
    "### Variable a Predecir"
   ]
  },
  {
   "cell_type": "code",
   "execution_count": 28,
   "metadata": {},
   "outputs": [],
   "source": [
    "#variable a predecir\n",
    "y=tmp_df_to_predict[[\"Survived\"]].to_numpy()"
   ]
  },
  {
   "cell_type": "markdown",
   "metadata": {},
   "source": [
    "### Caracteristicas"
   ]
  },
  {
   "cell_type": "code",
   "execution_count": 29,
   "metadata": {},
   "outputs": [],
   "source": [
    "\n",
    "X=df"
   ]
  },
  {
   "cell_type": "markdown",
   "metadata": {},
   "source": [
    "# One Hot Encoder"
   ]
  },
  {
   "cell_type": "code",
   "execution_count": 30,
   "metadata": {},
   "outputs": [],
   "source": [
    "from sklearn.preprocessing import OneHotEncoder\n",
    "from sklearn.compose import ColumnTransformer"
   ]
  },
  {
   "cell_type": "code",
   "execution_count": 31,
   "metadata": {},
   "outputs": [
    {
     "data": {
      "text/html": [
       "<div>\n",
       "<style scoped>\n",
       "    .dataframe tbody tr th:only-of-type {\n",
       "        vertical-align: middle;\n",
       "    }\n",
       "\n",
       "    .dataframe tbody tr th {\n",
       "        vertical-align: top;\n",
       "    }\n",
       "\n",
       "    .dataframe thead th {\n",
       "        text-align: right;\n",
       "    }\n",
       "</style>\n",
       "<table border=\"1\" class=\"dataframe\">\n",
       "  <thead>\n",
       "    <tr style=\"text-align: right;\">\n",
       "      <th></th>\n",
       "      <th>Pclass</th>\n",
       "      <th>Sex</th>\n",
       "      <th>Age</th>\n",
       "      <th>Fare</th>\n",
       "      <th>Embarked</th>\n",
       "    </tr>\n",
       "  </thead>\n",
       "  <tbody>\n",
       "    <tr>\n",
       "      <th>0</th>\n",
       "      <td>3</td>\n",
       "      <td>male</td>\n",
       "      <td>22.000000</td>\n",
       "      <td>7.2500</td>\n",
       "      <td>S</td>\n",
       "    </tr>\n",
       "    <tr>\n",
       "      <th>1</th>\n",
       "      <td>1</td>\n",
       "      <td>female</td>\n",
       "      <td>38.000000</td>\n",
       "      <td>71.2833</td>\n",
       "      <td>C</td>\n",
       "    </tr>\n",
       "    <tr>\n",
       "      <th>2</th>\n",
       "      <td>3</td>\n",
       "      <td>female</td>\n",
       "      <td>26.000000</td>\n",
       "      <td>7.9250</td>\n",
       "      <td>S</td>\n",
       "    </tr>\n",
       "    <tr>\n",
       "      <th>3</th>\n",
       "      <td>1</td>\n",
       "      <td>female</td>\n",
       "      <td>35.000000</td>\n",
       "      <td>53.1000</td>\n",
       "      <td>S</td>\n",
       "    </tr>\n",
       "    <tr>\n",
       "      <th>4</th>\n",
       "      <td>3</td>\n",
       "      <td>male</td>\n",
       "      <td>35.000000</td>\n",
       "      <td>8.0500</td>\n",
       "      <td>S</td>\n",
       "    </tr>\n",
       "    <tr>\n",
       "      <th>...</th>\n",
       "      <td>...</td>\n",
       "      <td>...</td>\n",
       "      <td>...</td>\n",
       "      <td>...</td>\n",
       "      <td>...</td>\n",
       "    </tr>\n",
       "    <tr>\n",
       "      <th>886</th>\n",
       "      <td>2</td>\n",
       "      <td>male</td>\n",
       "      <td>27.000000</td>\n",
       "      <td>13.0000</td>\n",
       "      <td>S</td>\n",
       "    </tr>\n",
       "    <tr>\n",
       "      <th>887</th>\n",
       "      <td>1</td>\n",
       "      <td>female</td>\n",
       "      <td>19.000000</td>\n",
       "      <td>30.0000</td>\n",
       "      <td>S</td>\n",
       "    </tr>\n",
       "    <tr>\n",
       "      <th>888</th>\n",
       "      <td>3</td>\n",
       "      <td>female</td>\n",
       "      <td>29.699118</td>\n",
       "      <td>23.4500</td>\n",
       "      <td>S</td>\n",
       "    </tr>\n",
       "    <tr>\n",
       "      <th>889</th>\n",
       "      <td>1</td>\n",
       "      <td>male</td>\n",
       "      <td>26.000000</td>\n",
       "      <td>30.0000</td>\n",
       "      <td>C</td>\n",
       "    </tr>\n",
       "    <tr>\n",
       "      <th>890</th>\n",
       "      <td>3</td>\n",
       "      <td>male</td>\n",
       "      <td>32.000000</td>\n",
       "      <td>7.7500</td>\n",
       "      <td>Q</td>\n",
       "    </tr>\n",
       "  </tbody>\n",
       "</table>\n",
       "<p>891 rows × 5 columns</p>\n",
       "</div>"
      ],
      "text/plain": [
       "     Pclass     Sex        Age     Fare Embarked\n",
       "0         3    male  22.000000   7.2500        S\n",
       "1         1  female  38.000000  71.2833        C\n",
       "2         3  female  26.000000   7.9250        S\n",
       "3         1  female  35.000000  53.1000        S\n",
       "4         3    male  35.000000   8.0500        S\n",
       "..      ...     ...        ...      ...      ...\n",
       "886       2    male  27.000000  13.0000        S\n",
       "887       1  female  19.000000  30.0000        S\n",
       "888       3  female  29.699118  23.4500        S\n",
       "889       1    male  26.000000  30.0000        C\n",
       "890       3    male  32.000000   7.7500        Q\n",
       "\n",
       "[891 rows x 5 columns]"
      ]
     },
     "execution_count": 31,
     "metadata": {},
     "output_type": "execute_result"
    }
   ],
   "source": [
    "X"
   ]
  },
  {
   "cell_type": "markdown",
   "metadata": {},
   "source": [
    "#### Separamos el set de entrenamiento"
   ]
  },
  {
   "cell_type": "code",
   "execution_count": 32,
   "metadata": {},
   "outputs": [],
   "source": [
    "#features_columnas_categoricas = [\"Pclass\",\"Sex\",\"SibSp\",\"Parch\",\"Embarked\"]\n",
    "features_columnas_categoricas = [\"Pclass\",\"Sex\",\"Embarked\"]\n",
    "one_hot_encoder = OneHotEncoder()\n",
    "\n",
    "# passthrough significa que no modifique las otras columnas\n",
    "transformer = ColumnTransformer([(\"one_hot\",\n",
    "                                  one_hot_encoder,\n",
    "                                  features_columnas_categoricas)],\n",
    "                                  remainder='passthrough')\n",
    "\n",
    "transformed_X = transformer.fit_transform(X)"
   ]
  },
  {
   "cell_type": "code",
   "execution_count": 33,
   "metadata": {},
   "outputs": [
    {
     "data": {
      "text/plain": [
       "(array([  0,   0,   0, ..., 890, 890, 890]),\n",
       " array([ 2,  4,  7, ...,  6,  9, 10]))"
      ]
     },
     "execution_count": 33,
     "metadata": {},
     "output_type": "execute_result"
    }
   ],
   "source": [
    "transformed_X.nonzero()"
   ]
  },
  {
   "cell_type": "code",
   "execution_count": 34,
   "metadata": {},
   "outputs": [
    {
     "data": {
      "text/plain": [
       "(712, 11)"
      ]
     },
     "execution_count": 34,
     "metadata": {},
     "output_type": "execute_result"
    }
   ],
   "source": [
    "# Split trian (find parameters to minimize the cost function) and test 20 % \n",
    "X_train, X_test, y_train, y_test = train_test_split(transformed_X, y, test_size = .2, random_state = 42)\n",
    "X_train.shape"
   ]
  },
  {
   "cell_type": "markdown",
   "metadata": {},
   "source": [
    "# Creando objeto de regresion logistica"
   ]
  },
  {
   "cell_type": "code",
   "execution_count": 35,
   "metadata": {},
   "outputs": [],
   "source": [
    "model_clasificador = RegresionLogistica(lr=0.01,epochs=150,show=False)\n"
   ]
  },
  {
   "cell_type": "code",
   "execution_count": 36,
   "metadata": {},
   "outputs": [],
   "source": [
    "model_clasificador.fit(X_train,y_train)\n"
   ]
  },
  {
   "cell_type": "code",
   "execution_count": 37,
   "metadata": {},
   "outputs": [
    {
     "data": {
      "image/png": "[encoded data removed]",
      "text/plain": [
       "<Figure size 640x480 with 3 Axes>"
      ]
     },
     "metadata": {},
     "output_type": "display_data"
    }
   ],
   "source": [
    "plt.subplot(1, 3, 1)\n",
    "plt.plot(np.arange(len(model_clasificador.losses)), model_clasificador.losses)\n",
    "plt.xlabel(\"epoch\")\n",
    "plt.ylabel(\"loss\")\n",
    "\n",
    "plt.subplot(1, 3, 2)\n",
    "plt.scatter(model_clasificador.b_list, model_clasificador.losses)\n",
    "plt.xlabel(\"bias\")\n",
    "plt.ylabel(\"loss\")\n",
    "\n",
    "#Separamos la lista en diferente arreglos. un total de 11 en este caso\n",
    "tmp=np.array(model_clasificador.w_list)\n",
    "subarrays=np.split(tmp,11,axis=1)\n",
    "\n",
    "\n",
    "plt.subplot(1, 3, 3)\n",
    "for i in range(0,11):\n",
    "    plt.scatter(subarrays[i], model_clasificador.losses)\n"
   ]
  },
  {
   "cell_type": "code",
   "execution_count": 38,
   "metadata": {},
   "outputs": [
    {
     "data": {
      "text/plain": [
       "[np.float64(-15.399387959043166),\n",
       " np.float64(-9.54213698764451),\n",
       " np.float64(-2.4207306863704727),\n",
       " np.float64(-1.8554466802675564),\n",
       " np.float64(-1.3096596479628193),\n",
       " np.float64(-0.9052264507251453),\n",
       " np.float64(-1.1820976977048863),\n",
       " np.float64(-4.622754907868533),\n",
       " np.float64(-3.0129814659190974),\n",
       " np.float64(-4.555313673009312),\n",
       " np.float64(-2.544076760032405),\n",
       " np.float64(-2.1971552807810473),\n",
       " np.float64(-1.9307902048380123),\n",
       " np.float64(-2.4916082947856855),\n",
       " np.float64(-4.066994697543172),\n",
       " np.float64(-3.008176003672077),\n",
       " np.float64(-2.0095326386089485),\n",
       " np.float64(-1.608208080923831),\n",
       " np.float64(-1.5824504373959274),\n",
       " np.float64(-3.3956588921845605),\n",
       " np.float64(-3.9636371136583652),\n",
       " np.float64(-3.498937191092786),\n",
       " np.float64(-2.8093163917061466),\n",
       " np.float64(-2.0956427849633967),\n",
       " np.float64(-1.4760626150030416),\n",
       " np.float64(-1.3070262455051376),\n",
       " np.float64(-3.3431025495536564),\n",
       " np.float64(-4.7270369236787415),\n",
       " np.float64(-2.441224630915174),\n",
       " np.float64(-2.188635186452109),\n",
       " np.float64(-2.0834981330350666),\n",
       " np.float64(-2.7899705310548133),\n",
       " np.float64(-3.7477026387917713),\n",
       " np.float64(-2.896511593369768),\n",
       " np.float64(-1.9560992556999768),\n",
       " np.float64(-1.5733194629960408),\n",
       " np.float64(-1.6504556851085719),\n",
       " np.float64(-3.6476847411187467),\n",
       " np.float64(-3.6651508120806007),\n",
       " np.float64(-3.508755241691886),\n",
       " np.float64(-2.80239273967437),\n",
       " np.float64(-2.086312447377109),\n",
       " np.float64(-1.467624719428266),\n",
       " np.float64(-1.3047676892309676),\n",
       " np.float64(-3.3859864548806837),\n",
       " np.float64(-4.675393270946948),\n",
       " np.float64(-2.4560504596499304),\n",
       " np.float64(-2.1721423665795854),\n",
       " np.float64(-2.022848263963395),\n",
       " np.float64(-2.7025744068820936),\n",
       " np.float64(-3.8315502346751416),\n",
       " np.float64(-2.914909058383872),\n",
       " np.float64(-1.9570006172460108),\n",
       " np.float64(-1.5620334399013314),\n",
       " np.float64(-1.5976177699282035),\n",
       " np.float64(-3.5499046503267846),\n",
       " np.float64(-3.7699136798225923),\n",
       " np.float64(-3.508236225639129),\n",
       " np.float64(-2.7910468965274733),\n",
       " np.float64(-2.0700193124159356),\n",
       " np.float64(-1.4517803191968672),\n",
       " np.float64(-1.2845989864805294),\n",
       " np.float64(-3.395007644449113),\n",
       " np.float64(-4.65985403872546),\n",
       " np.float64(-2.4521902854805244),\n",
       " np.float64(-2.1629171760671135),\n",
       " np.float64(-2.010313900177926),\n",
       " np.float64(-2.681747205032156),\n",
       " np.float64(-3.8344433481581075),\n",
       " np.float64(-2.898946441738919),\n",
       " np.float64(-1.9446179679302522),\n",
       " np.float64(-1.5464157561291347),\n",
       " np.float64(-1.5817885994544516),\n",
       " np.float64(-3.5459676137166527),\n",
       " np.float64(-3.762754058316783),\n",
       " np.float64(-3.500838795976863),\n",
       " np.float64(-2.7850878348409602),\n",
       " np.float64(-2.058427292988952),\n",
       " np.float64(-1.4399565547099105),\n",
       " np.float64(-1.270189872093293),\n",
       " np.float64(-3.4010208076815704),\n",
       " np.float64(-4.6398304033991415),\n",
       " np.float64(-2.4507455041949058),\n",
       " np.float64(-2.151768526090883),\n",
       " np.float64(-1.9907185262785327),\n",
       " np.float64(-2.652311109396459),\n",
       " np.float64(-3.8498213802350203),\n",
       " np.float64(-2.887596095120145),\n",
       " np.float64(-1.9345753434964539),\n",
       " np.float64(-1.5323845479399154),\n",
       " np.float64(-1.56292006864171),\n",
       " np.float64(-3.5295126403631976),\n",
       " np.float64(-3.7693318560349796),\n",
       " np.float64(-3.4916095810674737),\n",
       " np.float64(-2.779740384876538),\n",
       " np.float64(-2.046939512652136),\n",
       " np.float64(-1.4281594804285773),\n",
       " np.float64(-1.2550466734960188),\n",
       " np.float64(-3.4022282169961664),\n",
       " np.float64(-4.623230428162739),\n",
       " np.float64(-2.4477799896025023),\n",
       " np.float64(-2.141152523024739),\n",
       " np.float64(-1.975450999113793),\n",
       " np.float64(-2.62916088676179),\n",
       " np.float64(-3.8581383630295583),\n",
       " np.float64(-2.8734271029586127),\n",
       " np.float64(-1.923516487453548),\n",
       " np.float64(-1.5182661238234263),\n",
       " np.float64(-1.547703987039177),\n",
       " np.float64(-3.521184151642106),\n",
       " np.float64(-3.7659954808840874),\n",
       " np.float64(-3.482068384456341),\n",
       " np.float64(-2.7750071736160162),\n",
       " np.float64(-2.035836183352771),\n",
       " np.float64(-1.4168035446316969),\n",
       " np.float64(-1.2405049905785976),\n",
       " np.float64(-3.4024757590192998),\n",
       " np.float64(-4.606432239703823),\n",
       " np.float64(-2.44518528134841),\n",
       " np.float64(-2.1305487373009604),\n",
       " np.float64(-1.9602334125406444),\n",
       " np.float64(-2.6058100205580432),\n",
       " np.float64(-3.8669778173247504),\n",
       " np.float64(-2.859213078452989),\n",
       " np.float64(-1.9126324926882416),\n",
       " np.float64(-1.5045954254317984),\n",
       " np.float64(-1.5335140688471773),\n",
       " np.float64(-3.5132733163047587),\n",
       " np.float64(-3.761691482556097),\n",
       " np.float64(-3.471837855248477),\n",
       " np.float64(-2.7708275925855608),\n",
       " np.float64(-2.024985458960571),\n",
       " np.float64(-1.4057224073787857),\n",
       " np.float64(-1.2261267521588077),\n",
       " np.float64(-3.4005718513850756),\n",
       " np.float64(-4.59069757134528),\n",
       " np.float64(-2.442289436399409),\n",
       " np.float64(-2.120096581284442),\n",
       " np.float64(-1.9464245211012732),\n",
       " np.float64(-2.5844576031898012),\n",
       " np.float64(-3.8738110511441337),\n",
       " np.float64(-2.844164419144956),\n",
       " np.float64(-1.901513437941724),\n",
       " np.float64(-1.491137650534562),\n",
       " np.float64(-1.5210554562593468),\n",
       " np.float64(-3.5081497453988),\n",
       " np.float64(-3.7537336335099702),\n",
       " np.float64(-3.4612492455080184),\n",
       " np.float64(-2.7671378761778707),\n",
       " np.float64(-2.0143820308107476)]"
      ]
     },
     "execution_count": 38,
     "metadata": {},
     "output_type": "execute_result"
    }
   ],
   "source": [
    "model_clasificador.losses"
   ]
  },
  {
   "cell_type": "code",
   "execution_count": 39,
   "metadata": {},
   "outputs": [],
   "source": [
    "\n",
    "\n",
    "#np.array(model_clasificador.w_list).reshape()"
   ]
  },
  {
   "cell_type": "code",
   "execution_count": 40,
   "metadata": {},
   "outputs": [
    {
     "data": {
      "text/plain": [
       "[array([0.7044559]),\n",
       " array([0.69198612]),\n",
       " array([0.68960527]),\n",
       " array([0.69179991]),\n",
       " array([0.6925746]),\n",
       " array([0.69408785]),\n",
       " array([0.68656098]),\n",
       " array([0.69389342]),\n",
       " array([0.6828684]),\n",
       " array([0.6899573]),\n",
       " array([0.68356165]),\n",
       " array([0.68859459]),\n",
       " array([0.68327266]),\n",
       " array([0.68959942]),\n",
       " array([0.67823574]),\n",
       " array([0.68393796]),\n",
       " array([0.68092274]),\n",
       " array([0.68487158]),\n",
       " array([0.67905322]),\n",
       " array([0.68599359]),\n",
       " array([0.67432959]),\n",
       " array([0.68083503]),\n",
       " array([0.67462091]),\n",
       " array([0.67851406]),\n",
       " array([0.67734794]),\n",
       " array([0.68188877]),\n",
       " array([0.67017612]),\n",
       " array([0.67734636]),\n",
       " array([0.67114076]),\n",
       " array([0.67635832]),\n",
       " array([0.67002138]),\n",
       " array([0.67650524]),\n",
       " array([0.66581548]),\n",
       " array([0.67139259]),\n",
       " array([0.668509]),\n",
       " array([0.67254659]),\n",
       " array([0.66608049]),\n",
       " array([0.67311577]),\n",
       " array([0.66186344]),\n",
       " array([0.66839645]),\n",
       " array([0.66216133]),\n",
       " array([0.66608195]),\n",
       " array([0.66488923]),\n",
       " array([0.66950043]),\n",
       " array([0.65775994]),\n",
       " array([0.66492423]),\n",
       " array([0.65868978]),\n",
       " array([0.66386619]),\n",
       " array([0.65782724]),\n",
       " array([0.66430112]),\n",
       " array([0.6533965]),\n",
       " array([0.65901823]),\n",
       " array([0.65614671]),\n",
       " array([0.66014459]),\n",
       " array([0.65396271]),\n",
       " array([0.66098934]),\n",
       " array([0.64955227]),\n",
       " array([0.65610163]),\n",
       " array([0.6499061]),\n",
       " array([0.65381211]),\n",
       " array([0.65267183]),\n",
       " array([0.65729231]),\n",
       " array([0.64553774]),\n",
       " array([0.65271051]),\n",
       " array([0.64646623]),\n",
       " array([0.65165359]),\n",
       " array([0.6456551]),\n",
       " array([0.65214102]),\n",
       " array([0.64122409]),\n",
       " array([0.64684664]),\n",
       " array([0.6440082]),\n",
       " array([0.64800683]),\n",
       " array([0.64184897]),\n",
       " array([0.6488915]),\n",
       " array([0.63745213]),\n",
       " array([0.64401709]),\n",
       " array([0.63782396]),\n",
       " array([0.6417329]),\n",
       " array([0.64061948]),\n",
       " array([0.6452615]),\n",
       " array([0.63350073]),\n",
       " array([0.64067967]),\n",
       " array([0.6344272]),\n",
       " array([0.63961591]),\n",
       " array([0.63369575]),\n",
       " array([0.64019099]),\n",
       " array([0.62923363]),\n",
       " array([0.6348633]),\n",
       " array([0.63205056]),\n",
       " array([0.63604703]),\n",
       " array([0.62994414]),\n",
       " array([0.63699829]),\n",
       " array([0.62553833]),\n",
       " array([0.63211773]),\n",
       " array([0.62592752]),\n",
       " array([0.62983741]),\n",
       " array([0.62875485]),\n",
       " array([0.63341323]),\n",
       " array([0.62165012]),\n",
       " array([0.62883623]),\n",
       " array([0.62257807]),\n",
       " array([0.62777226]),\n",
       " array([0.62190765]),\n",
       " array([0.62841421]),\n",
       " array([0.61743418]),\n",
       " array([0.62306709]),\n",
       " array([0.62028148]),\n",
       " array([0.62427959]),\n",
       " array([0.61820877]),\n",
       " array([0.62527601]),\n",
       " array([0.61381136]),\n",
       " array([0.62040513]),\n",
       " array([0.6142157]),\n",
       " array([0.61812711]),\n",
       " array([0.61707374]),\n",
       " array([0.62174818]),\n",
       " array([0.6099847]),\n",
       " array([0.61717758]),\n",
       " array([0.61091379]),\n",
       " array([0.61611281]),\n",
       " array([0.61030512]),\n",
       " array([0.61682261]),\n",
       " array([0.60582001]),\n",
       " array([0.611456]),\n",
       " array([0.60869619]),\n",
       " array([0.61269697]),\n",
       " array([0.60665572]),\n",
       " array([0.6137354]),\n",
       " array([0.60226882]),\n",
       " array([0.60887655]),\n",
       " array([0.60268692]),\n",
       " array([0.60659949]),\n",
       " array([0.60557554]),\n",
       " array([0.61026417]),\n",
       " array([0.59850276]),\n",
       " array([0.60570247]),\n",
       " array([0.59943406]),\n",
       " array([0.60463887]),\n",
       " array([0.59888143]),\n",
       " array([0.60541028]),\n",
       " array([0.59439076]),\n",
       " array([0.6000285]),\n",
       " array([0.5972944]),\n",
       " array([0.60129958]),\n",
       " array([0.5952793]),\n",
       " array([0.60237143]),\n",
       " array([0.59090937]),\n",
       " array([0.59753084]),\n",
       " array([0.59134001]),\n",
       " array([0.59525363])]"
      ]
     },
     "execution_count": 40,
     "metadata": {},
     "output_type": "execute_result"
    }
   ],
   "source": [
    "model_clasificador.b_list"
   ]
  },
  {
   "cell_type": "code",
   "execution_count": 41,
   "metadata": {},
   "outputs": [],
   "source": [
    "y_hat = model_clasificador.predict(X_test)"
   ]
  },
  {
   "cell_type": "code",
   "execution_count": 42,
   "metadata": {},
   "outputs": [],
   "source": [
    "# Nota personal Investigar que es CSR matrix"
   ]
  },
  {
   "cell_type": "code",
   "execution_count": 43,
   "metadata": {},
   "outputs": [
    {
     "name": "stdout",
     "output_type": "stream",
     "text": [
      "nivel_de_aciertos=0.743017 = 133/179\n"
     ]
    }
   ],
   "source": [
    "#calculando que tan acertado fue el modelo\n",
    "\n",
    "# por alguna razon no funciona la sentencia de numpy. Si tengo tiempo investigar despues\n",
    "#numero_de_aciertos=np.count_nonzero((y_hat==y_test) == True)\n",
    "counter=0\n",
    "for i in range(0,len(y_hat)):\n",
    "    if y_hat[i]==y_test[i]:\n",
    "        counter=counter+1\n",
    "numero_de_aciertos=counter\n",
    "\n",
    "total_de_valores_a_predecir=len(y_test)\n",
    "\n",
    "nivel_de_aciertos=numero_de_aciertos/total_de_valores_a_predecir\n",
    "\n",
    "print(f\"nivel_de_aciertos={nivel_de_aciertos:2f} = {numero_de_aciertos}/{total_de_valores_a_predecir}\")"
   ]
  },
  {
   "cell_type": "code",
   "execution_count": 44,
   "metadata": {},
   "outputs": [
    {
     "data": {
      "text/plain": [
       "array([  0,   1,   2,   3,   4,   5,   6,   7,   8,   9,  10,  11,  12,\n",
       "        13,  14,  15,  16,  17,  18,  19,  20,  21,  22,  23,  24,  25,\n",
       "        26,  27,  28,  29,  30,  31,  32,  33,  34,  35,  36,  37,  38,\n",
       "        39,  40,  41,  42,  43,  44,  45,  46,  47,  48,  49,  50,  51,\n",
       "        52,  53,  54,  55,  56,  57,  58,  59,  60,  61,  62,  63,  64,\n",
       "        65,  66,  67,  68,  69,  70,  71,  72,  73,  74,  75,  76,  77,\n",
       "        78,  79,  80,  81,  82,  83,  84,  85,  86,  87,  88,  89,  90,\n",
       "        91,  92,  93,  94,  95,  96,  97,  98,  99, 100, 101, 102, 103,\n",
       "       104, 105, 106, 107, 108, 109, 110, 111, 112, 113, 114, 115, 116,\n",
       "       117, 118, 119, 120, 121, 122, 123, 124, 125, 126, 127, 128, 129,\n",
       "       130, 131, 132, 133, 134, 135, 136, 137, 138, 139, 140, 141, 142,\n",
       "       143, 144, 145, 146, 147, 148, 149, 150, 151, 152, 153, 154, 155,\n",
       "       156, 157, 158, 159, 160, 161, 162, 163, 164, 165, 166, 167, 168,\n",
       "       169, 170, 171, 172, 173, 174, 175, 176, 177, 178])"
      ]
     },
     "execution_count": 44,
     "metadata": {},
     "output_type": "execute_result"
    }
   ],
   "source": [
    "\n",
    "x_to_graph = np.arange(0, len(y_test), 1, dtype=int)\n",
    "x_to_graph\n",
    "\n"
   ]
  },
  {
   "cell_type": "code",
   "execution_count": 45,
   "metadata": {},
   "outputs": [
    {
     "data": {
      "text/plain": [
       "179"
      ]
     },
     "execution_count": 45,
     "metadata": {},
     "output_type": "execute_result"
    }
   ],
   "source": [
    "len(x_to_graph)"
   ]
  },
  {
   "cell_type": "code",
   "execution_count": 46,
   "metadata": {},
   "outputs": [
    {
     "data": {
      "text/plain": [
       "array([1, 0, 0, 1, 1, 1, 1, 0, 1, 1, 0, 0, 0, 0, 0, 1, 1, 1, 0, 0, 0, 1,\n",
       "       1, 0, 0, 0, 0, 1, 0, 0, 0, 1, 0, 0, 1, 0, 1, 1, 1, 0, 0, 0, 0, 0,\n",
       "       0, 0, 0, 0, 0, 0, 1, 1, 0, 1, 0, 1, 0, 1, 1, 1, 0, 1, 1, 0, 0, 0,\n",
       "       0, 0, 0, 1, 0, 1, 1, 1, 0, 0, 0, 1, 0, 0, 0, 1, 1, 0, 0, 0, 1, 1,\n",
       "       0, 0, 1, 0, 0, 0, 0, 0, 1, 1, 1, 0, 0, 0, 1, 0, 0, 0, 1, 0, 1, 1,\n",
       "       1, 0, 1, 1, 0, 0, 0, 0, 1, 0, 0, 1, 1, 1, 0, 1, 1, 0, 0, 0, 1, 1,\n",
       "       0, 1, 1, 1, 1, 0, 0, 0, 0, 0, 0, 0, 0, 1, 0, 0, 1, 0, 0, 0, 0, 1,\n",
       "       0, 0, 1, 1, 1, 0, 0, 1, 0, 1, 0, 0, 0, 1, 0, 0, 1, 1, 1, 0, 0, 0,\n",
       "       1, 1, 1])"
      ]
     },
     "execution_count": 46,
     "metadata": {},
     "output_type": "execute_result"
    }
   ],
   "source": [
    "y_test_graph=y_test.reshape(1,len(y_test))\n",
    "y_test_graph=y_test_graph[0]\n",
    "y_test_graph"
   ]
  },
  {
   "cell_type": "code",
   "execution_count": 47,
   "metadata": {},
   "outputs": [
    {
     "data": {
      "text/plain": [
       "179"
      ]
     },
     "execution_count": 47,
     "metadata": {},
     "output_type": "execute_result"
    }
   ],
   "source": [
    "len(y_test_graph)"
   ]
  },
  {
   "cell_type": "code",
   "execution_count": 48,
   "metadata": {},
   "outputs": [
    {
     "data": {
      "text/plain": [
       "array([0, 0, 0, 1, 1, 1, 0, 1, 0, 1, 1, 0, 1, 0, 0, 1, 1, 0, 0, 1, 0, 0,\n",
       "       0, 0, 0, 1, 0, 0, 1, 0, 0, 0, 1, 0, 0, 0, 1, 0, 1, 0, 1, 0, 0, 0,\n",
       "       0, 1, 0, 0, 0, 1, 1, 1, 0, 1, 0, 1, 0, 1, 0, 0, 0, 1, 1, 1, 0, 0,\n",
       "       1, 0, 0, 1, 1, 1, 1, 1, 0, 0, 0, 1, 0, 0, 1, 0, 1, 0, 0, 0, 1, 1,\n",
       "       0, 0, 1, 1, 0, 0, 0, 0, 1, 0, 0, 0, 0, 0, 1, 0, 0, 0, 1, 0, 0, 0,\n",
       "       1, 0, 1, 0, 1, 0, 0, 0, 1, 0, 0, 1, 1, 1, 0, 0, 0, 1, 0, 0, 0, 0,\n",
       "       0, 1, 1, 1, 1, 0, 0, 1, 0, 0, 0, 0, 0, 1, 0, 0, 1, 0, 0, 0, 0, 0,\n",
       "       0, 0, 1, 0, 0, 0, 0, 1, 0, 1, 0, 0, 0, 1, 0, 0, 1, 1, 0, 1, 0, 0,\n",
       "       0, 1, 1])"
      ]
     },
     "execution_count": 48,
     "metadata": {},
     "output_type": "execute_result"
    }
   ],
   "source": [
    "type(y_hat)\n",
    "y_hat_to_graph = np.array(y_hat)\n",
    "y_hat_to_graph"
   ]
  },
  {
   "cell_type": "code",
   "execution_count": 49,
   "metadata": {},
   "outputs": [
    {
     "data": {
      "text/plain": [
       "179"
      ]
     },
     "execution_count": 49,
     "metadata": {},
     "output_type": "execute_result"
    }
   ],
   "source": [
    "len(y_hat_to_graph)"
   ]
  },
  {
   "cell_type": "code",
   "execution_count": 50,
   "metadata": {},
   "outputs": [
    {
     "data": {
      "text/plain": [
       "<matplotlib.legend.Legend at 0x16af93dc0>"
      ]
     },
     "execution_count": 50,
     "metadata": {},
     "output_type": "execute_result"
    },
    {
     "data": {
      "image/png": "[encoded data removed]",
      "text/plain": [
       "<Figure size 640x480 with 1 Axes>"
      ]
     },
     "metadata": {},
     "output_type": "display_data"
    }
   ],
   "source": [
    "plt.scatter(x_to_graph, y_test_graph, label = \"Data points\",marker = '*')\n",
    "plt.scatter(x_to_graph,y_hat_to_graph,label =  f\"Data points predicted acertados={nivel_de_aciertos:.2f}%\",marker=\"+\")\n",
    "#plt.plot(X, X_b.dot(theta), c = \"r\", label = \"Model\")\n",
    "plt.legend()"
   ]
  }
 ],
 "metadata": {
  "kernelspec": {
   "display_name": "machine_learning",
   "language": "python",
   "name": "python3"
  },
  "language_info": {
   "codemirror_mode": {
    "name": "ipython",
    "version": 3
   },
   "file_extension": ".py",
   "mimetype": "text/x-python",
   "name": "python",
   "nbconvert_exporter": "python",
   "pygments_lexer": "ipython3",
   "version": "3.10.13"
  }
 },
 "nbformat": 4,
 "nbformat_minor": 2
}

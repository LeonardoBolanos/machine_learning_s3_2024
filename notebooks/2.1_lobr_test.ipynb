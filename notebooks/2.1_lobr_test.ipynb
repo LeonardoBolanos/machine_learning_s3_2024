{
 "cells": [
  {
   "cell_type": "code",
   "execution_count": 45,
   "metadata": {},
   "outputs": [],
   "source": [
    "import numpy as np\n",
    "import matplotlib.pyplot as plt"
   ]
  },
  {
   "cell_type": "code",
   "execution_count": 46,
   "metadata": {},
   "outputs": [
    {
     "data": {
      "text/plain": [
       "((7, 1, 10, 5, 4, 3, 13, 10, 2), (2, 9, 2, 5, 7, 11, 2, 5, 14))"
      ]
     },
     "execution_count": 46,
     "metadata": {},
     "output_type": "execute_result"
    }
   ],
   "source": [
    "Xl=(7,1,10,5,4,3,13,10,2)\n",
    "Yl=(2,9,2,5,7,11,2,5,14)\n",
    "\n",
    "Xl,Yl"
   ]
  },
  {
   "cell_type": "code",
   "execution_count": 47,
   "metadata": {},
   "outputs": [
    {
     "data": {
      "text/plain": [
       "((9,), (9,))"
      ]
     },
     "execution_count": 47,
     "metadata": {},
     "output_type": "execute_result"
    }
   ],
   "source": [
    "X = np.array(Xl)\n",
    "Y = np.array(Yl)\n",
    "X.shape,Y.shape"
   ]
  },
  {
   "cell_type": "code",
   "execution_count": 48,
   "metadata": {},
   "outputs": [
    {
     "data": {
      "text/plain": [
       "array([14,  9, 20, 25, 28, 33, 26, 50, 28])"
      ]
     },
     "execution_count": 48,
     "metadata": {},
     "output_type": "execute_result"
    }
   ],
   "source": [
    "XY = X * Y\n",
    "XY"
   ]
  },
  {
   "cell_type": "code",
   "execution_count": 49,
   "metadata": {},
   "outputs": [
    {
     "data": {
      "text/plain": [
       "array([ 49,   1, 100,  25,  16,   9, 169, 100,   4])"
      ]
     },
     "execution_count": 49,
     "metadata": {},
     "output_type": "execute_result"
    }
   ],
   "source": [
    "X2=X*X\n",
    "X2"
   ]
  },
  {
   "cell_type": "code",
   "execution_count": 50,
   "metadata": {},
   "outputs": [
    {
     "name": "stdout",
     "output_type": "stream",
     "text": [
      "sumatoria X=55 Y=57 dot(X*Y)=233=X*Y=233 X^2=473\n"
     ]
    }
   ],
   "source": [
    "#sumatoria X, Y, X*Y, X^2\n",
    "n=len(X)\n",
    "sumX=np.sum(X)\n",
    "sumY=np.sum(Y)\n",
    "dotXY=np.dot(X,Y)\n",
    "sumXY=np.sum(XY)\n",
    "sumX2=np.sum(X2)\n",
    "\n",
    "print(f\"sumatoria X={sumX} Y={sumY} dot(X*Y)={dotXY}=X*Y={sumXY} X^2={sumX2}\")\n"
   ]
  },
  {
   "cell_type": "code",
   "execution_count": 51,
   "metadata": {},
   "outputs": [
    {
     "name": "stdout",
     "output_type": "stream",
     "text": [
      "m=-0.8425324675324672 b=11.482142857142854\n"
     ]
    }
   ],
   "source": [
    "m = ( sumXY - ((sumX*sumY)/n))/(sumX2 - ( (sumX**2)/n))\n",
    "b =  (sumY/n) -( m * sumX/n)\n",
    "print(f\"m={m} b={b}\")\n"
   ]
  },
  {
   "cell_type": "code",
   "execution_count": 56,
   "metadata": {},
   "outputs": [
    {
     "data": {
      "text/plain": [
       "(np.float64(-0.8425324675324672), np.float64(11.482142857142854))"
      ]
     },
     "execution_count": 56,
     "metadata": {},
     "output_type": "execute_result"
    }
   ],
   "source": [
    "\n",
    "def calcSME(X,y):\n",
    "    n=len(X)\n",
    "    sumX=np.sum(X)\n",
    "    sumY=np.sum(y)\n",
    "    dotXY=np.dot(X,y)\n",
    "    sumX2=np.sum(X**2)\n",
    "    m = ( dotXY - ((sumX*sumY)/n))/(sumX2 - ( (sumX**2)/n))\n",
    "    b =  (sumY/n) -( m * sumX/n)\n",
    "    return (m,b)\n",
    "\n",
    "calcSME(X,Y)\n",
    " "
   ]
  },
  {
   "cell_type": "code",
   "execution_count": 57,
   "metadata": {},
   "outputs": [
    {
     "data": {
      "text/plain": [
       "(np.float64(-0.8425324675324672), np.float64(11.482142857142854))"
      ]
     },
     "execution_count": 57,
     "metadata": {},
     "output_type": "execute_result"
    }
   ],
   "source": [
    "def calcSME(X,y):\n",
    "    n=len(X)\n",
    "    sumX=np.sum(X)\n",
    "    sumY=np.sum(y)\n",
    "    dotXY=np.dot(X.T,y)\n",
    "    sumX2=np.sum(X**2)\n",
    "    m = ( dotXY - ((sumX*sumY)/n))/(sumX2 - ( (sumX**2)/n))\n",
    "    b =  (sumY/n) -( m * sumX/n)\n",
    "    return (m,b)\n",
    "calcSME(X,Y)"
   ]
  },
  {
   "cell_type": "code",
   "execution_count": 52,
   "metadata": {},
   "outputs": [
    {
     "data": {
      "text/plain": [
       "[<matplotlib.lines.Line2D at 0x14a48f370>]"
      ]
     },
     "execution_count": 52,
     "metadata": {},
     "output_type": "execute_result"
    },
    {
     "data": {
      "image/png": "[encoded data removed]",
      "text/plain": [
       "<Figure size 640x480 with 1 Axes>"
      ]
     },
     "metadata": {},
     "output_type": "display_data"
    }
   ],
   "source": [
    "plt.scatter(X, Y)\n",
    "plt.xlabel(\"feature X_1 / input\")\n",
    "plt.ylabel(\"y/output\")\n",
    "plt.title(\"Dataset\")\n",
    "\n",
    "\n",
    "# y ^ = wx + b\n",
    "\n",
    "x_plot=np.arange(max(X))\n",
    "\n",
    "y_plot = (x_plot * m) + b\n",
    "\n",
    "plt.plot(y_plot,color = 'r')"
   ]
  }
 ],
 "metadata": {
  "kernelspec": {
   "display_name": "machine_learning",
   "language": "python",
   "name": "python3"
  },
  "language_info": {
   "codemirror_mode": {
    "name": "ipython",
    "version": 3
   },
   "file_extension": ".py",
   "mimetype": "text/x-python",
   "name": "python",
   "nbconvert_exporter": "python",
   "pygments_lexer": "ipython3",
   "version": "3.10.14"
  }
 },
 "nbformat": 4,
 "nbformat_minor": 2
}
